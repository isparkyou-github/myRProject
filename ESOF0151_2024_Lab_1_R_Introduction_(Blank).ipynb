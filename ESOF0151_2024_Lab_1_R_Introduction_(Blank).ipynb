{
  "nbformat": 4,
  "nbformat_minor": 0,
  "metadata": {
    "colab": {
      "provenance": [],
      "include_colab_link": true
    },
    "kernelspec": {
      "name": "ir",
      "display_name": "R"
    },
    "language_info": {
      "name": "R"
    }
  },
  "cells": [
    {
      "cell_type": "markdown",
      "metadata": {
        "id": "view-in-github",
        "colab_type": "text"
      },
      "source": [
        "<a href=\"https://colab.research.google.com/github/isparkyou-github/myRProject/blob/main/ESOF0151_2024_Lab_1_R_Introduction_(Blank).ipynb\" target=\"_parent\"><img src=\"https://colab.research.google.com/assets/colab-badge.svg\" alt=\"Open In Colab\"/></a>"
      ]
    },
    {
      "cell_type": "markdown",
      "source": [
        "# Purpose of Lab 1: To touch on the basics of R programming\n",
        "\n",
        "# Content\n",
        "1.   Preliminaries\n",
        "*   Print function, help function, Example function\n",
        "2.   Language Basic Syntax\n",
        "* Hellp world, comments and object assignment\n",
        "* Listing and removing objects\n",
        "* Showing all objects\n",
        "* Construct a function\n",
        "3.   Simple Manipulation, numbers and vectors\n",
        "* Basic Arithmetics\n",
        "* Data types\n",
        "* Vectors\n",
        "* Concatenation\n",
        "* Indexing, Selecting and modifying subsets of data\n",
        "* Replace missing values\n",
        "* Lists\n",
        "* Matrices\n",
        "\n",
        "\n",
        "\n",
        "\n"
      ],
      "metadata": {
        "id": "xzkBp57C0kP2"
      }
    },
    {
      "cell_type": "markdown",
      "metadata": {
        "id": "aiV6tIjbaoA-"
      },
      "source": [
        "# Preliminaries"
      ]
    },
    {
      "cell_type": "markdown",
      "metadata": {
        "id": "panLYKhHSDYn"
      },
      "source": [
        "**The Print Function**"
      ]
    },
    {
      "cell_type": "code",
      "metadata": {
        "colab": {
          "base_uri": "https://localhost:8080/"
        },
        "id": "J-VORRNFR7eX",
        "outputId": "18274731-aa76-4d5d-8986-457fbc591d69"
      },
      "source": [
        "print('Hello')"
      ],
      "execution_count": 120,
      "outputs": [
        {
          "output_type": "stream",
          "name": "stdout",
          "text": [
            "[1] \"Hello\"\n"
          ]
        }
      ]
    },
    {
      "cell_type": "markdown",
      "metadata": {
        "id": "_cmlr9SeSgf5"
      },
      "source": [
        "**The Help Function**"
      ]
    },
    {
      "cell_type": "code",
      "source": [
        "help(print)"
      ],
      "metadata": {
        "id": "VPbrTa78oPLe"
      },
      "execution_count": 121,
      "outputs": []
    },
    {
      "cell_type": "code",
      "metadata": {
        "id": "0hHVx_YUR9xW"
      },
      "source": [
        "help(print) # or ?print"
      ],
      "execution_count": 2,
      "outputs": []
    },
    {
      "cell_type": "markdown",
      "metadata": {
        "id": "iPhHxe0VSrMY"
      },
      "source": [
        "**The Example Function**"
      ]
    },
    {
      "cell_type": "code",
      "metadata": {
        "colab": {
          "base_uri": "https://localhost:8080/"
        },
        "id": "iI_0rBUBSK40",
        "outputId": "9973c1a9-c4c2-4ff0-daed-662f3e21c36e"
      },
      "source": [
        "example(print)"
      ],
      "execution_count": 122,
      "outputs": [
        {
          "output_type": "stream",
          "name": "stdout",
          "text": [
            "\n",
            "print> require(stats)\n",
            "\n",
            "print> ts(1:20)  #-- print is the \"Default function\" --> print.ts(.) is called\n",
            "Time Series:\n",
            "Start = 1 \n",
            "End = 20 \n",
            "Frequency = 1 \n",
            " [1]  1  2  3  4  5  6  7  8  9 10 11 12 13 14 15 16 17 18 19 20\n",
            "\n",
            "print> for(i in 1:3) print(1:i)\n",
            "[1] 1\n",
            "[1] 1 2\n",
            "[1] 1 2 3\n",
            "\n",
            "print> ## Printing of factors\n",
            "print> attenu$station ## 117 levels -> 'max.levels' depending on width\n",
            "  [1] 117  1083 1095 283  135  475  113  1008 1028 2001 117  1117 1438 1083 1013\n",
            " [16] 1014 1015 1016 1095 1011 1028 270  280  116  266  117  113  112  130  475 \n",
            " [31] 269  135  1093 1093 111  116  290  112  113  128  126  127  141  266  110 \n",
            " [46] 1027 111  125  135  475  262  269  1052 411  290  130  272  1096 1102 112 \n",
            " [61] 113  1028 2714 2708 2715 3501 655  272  1032 1377 1028 1250 1051 1293 1291\n",
            " [76] 1292 283  885  <NA> 2734 <NA> 2728 1413 1445 1408 1411 1410 1409 1377 1492\n",
            " [91] 1251 1422 1376 <NA> 286  <NA> 5028 942  <NA> 5054 958  952  5165 117  955 \n",
            "[106] 5055 <NA> <NA> 5060 412  5053 5058 5057 <NA> 5051 <NA> 5115 <NA> 931  5056\n",
            "[121] 5059 5061 <NA> 5062 5052 <NA> 724  <NA> 5066 5050 2316 5055 942  5028 5165\n",
            "[136] 952  958  955  117  412  5053 5054 5058 5057 5115 5056 5060 1030 1418 1383\n",
            "[151] 1308 1298 1299 1219 <NA> <NA> 1030 1418 1383 <NA> 1299 1308 1219 1456 5045\n",
            "[166] 5044 5160 5043 5047 c168 5068 c118 5042 5067 5049 c204 5070 c266 c203 5069\n",
            "[181] 5073 5072\n",
            "117 Levels: 1008 1011 1013 1014 1015 1016 1027 1028 1030 1032 1051 1052 ... c266\n",
            "\n",
            "print> ## ordered factors: levels  \"l1 < l2 < ..\"\n",
            "print> esoph$agegp[1:12]\n",
            " [1] 25-34 25-34 25-34 25-34 25-34 25-34 25-34 25-34 25-34 25-34 25-34 25-34\n",
            "Levels: 25-34 < 35-44 < 45-54 < 55-64 < 65-74 < 75+\n",
            "\n",
            "print> esoph$alcgp[1:12]\n",
            " [1] 0-39g/day 0-39g/day 0-39g/day 0-39g/day 40-79     40-79     40-79    \n",
            " [8] 40-79     80-119    80-119    80-119    120+     \n",
            "Levels: 0-39g/day < 40-79 < 80-119 < 120+\n",
            "\n",
            "print> ## Printing of sparse (contingency) tables\n",
            "print> set.seed(521)\n",
            "\n",
            "print> t1 <- round(abs(rt(200, df = 1.8)))\n",
            "\n",
            "print> t2 <- round(abs(rt(200, df = 1.4)))\n",
            "\n",
            "print> table(t1, t2) # simple\n",
            "    t2\n",
            "t1    0  1  2  3  4  5  6  7  8 10 17 21 30\n",
            "  0  21 22 14  4  1  0  1  1  1  0  1  0  0\n",
            "  1  25 21  7  3  4  2  1  1  1  1  0  0  0\n",
            "  2   8 16  9  2  0  0  0  0  0  0  0  1  1\n",
            "  3   3  7  0  2  0  0  0  0  0  0  0  0  0\n",
            "  4   1  5  2  0  0  0  1  0  0  0  0  0  0\n",
            "  5   1  1  1  0  0  0  0  0  0  0  0  0  0\n",
            "  6   1  3  0  0  0  0  0  0  0  0  0  0  0\n",
            "  7   1  0  0  0  0  0  0  0  0  0  0  0  0\n",
            "  9   0  0  0  1  0  0  0  0  0  0  0  0  0\n",
            "  12  1  0  0  0  0  0  0  0  0  0  0  0  0\n",
            "\n",
            "print> print(table(t1, t2), zero.print = \".\") # nicer to read\n",
            "    t2\n",
            "t1    0  1  2  3  4  5  6  7  8 10 17 21 30\n",
            "  0  21 22 14  4  1  .  1  1  1  .  1  .  .\n",
            "  1  25 21  7  3  4  2  1  1  1  1  .  .  .\n",
            "  2   8 16  9  2  .  .  .  .  .  .  .  1  1\n",
            "  3   3  7  .  2  .  .  .  .  .  .  .  .  .\n",
            "  4   1  5  2  .  .  .  1  .  .  .  .  .  .\n",
            "  5   1  1  1  .  .  .  .  .  .  .  .  .  .\n",
            "  6   1  3  .  .  .  .  .  .  .  .  .  .  .\n",
            "  7   1  .  .  .  .  .  .  .  .  .  .  .  .\n",
            "  9   .  .  .  1  .  .  .  .  .  .  .  .  .\n",
            "  12  1  .  .  .  .  .  .  .  .  .  .  .  .\n",
            "\n",
            "print> ## same for non-integer \"table\":\n",
            "print> T <- table(t2,t1)\n",
            "\n",
            "print> T <- T * (1+round(rlnorm(length(T)))/4)\n",
            "\n",
            "print> print(T, zero.print = \".\") # quite nicer,\n",
            "    t1\n",
            "t2       0     1     2     3     4     5     6     7     9    12\n",
            "  0  26.25 25.00 10.00  3.75  1.50  1.25  1.25  1.00     .  2.00\n",
            "  1  22.00 26.25 16.00 10.50 27.50  1.25  3.00     .     .     .\n",
            "  2  21.00  7.00 13.50     .  3.00  1.25     .     .     .     .\n",
            "  3   5.00  3.75  2.50  2.50     .     .     .     .  1.50     .\n",
            "  4   1.25  5.00     .     .     .     .     .     .     .     .\n",
            "  5      .  2.00     .     .     .     .     .     .     .     .\n",
            "  6   1.25  1.50     .     .  1.25     .     .     .     .     .\n",
            "  7   1.25  1.25     .     .     .     .     .     .     .     .\n",
            "  8   1.50  1.00     .     .     .     .     .     .     .     .\n",
            "  10     .  1.00     .     .     .     .     .     .     .     .\n",
            "  17  1.00     .     .     .     .     .     .     .     .     .\n",
            "  21     .     .  2.75     .     .     .     .     .     .     .\n",
            "  30     .     .  5.00     .     .     .     .     .     .     .\n",
            "\n",
            "print> print.table(T[,2:8] * 1e9, digits=3, zero.print = \".\")\n",
            "    t1\n",
            "t2          1        2        3        4        5        6        7\n",
            "  0  2.50e+10 1.00e+10 3.75e+09 1.50e+09 1.25e+09 1.25e+09 1.00e+09\n",
            "  1  2.62e+10 1.60e+10 1.05e+10 2.75e+10 1.25e+09 3.00e+09        .\n",
            "  2  7.00e+09 1.35e+10        . 3.00e+09 1.25e+09        .        .\n",
            "  3  3.75e+09 2.50e+09 2.50e+09        .        .        .        .\n",
            "  4  5.00e+09        .        .        .        .        .        .\n",
            "  5  2.00e+09        .        .        .        .        .        .\n",
            "  6  1.50e+09        .        . 1.25e+09        .        .        .\n",
            "  7  1.25e+09        .        .        .        .        .        .\n",
            "  8  1.00e+09        .        .        .        .        .        .\n",
            "  10 1.00e+09        .        .        .        .        .        .\n",
            "  17        .        .        .        .        .        .        .\n",
            "  21        . 2.75e+09        .        .        .        .        .\n",
            "  30        . 5.00e+09        .        .        .        .        .\n",
            "\n",
            "print> ## still slightly inferior to  Matrix::Matrix(T)  for larger T\n",
            "print> \n",
            "print> ## Corner cases with empty extents:\n",
            "print> table(1, NA) # < table of extent 1 x 0 >\n",
            "< table of extent 1 x 0 >\n"
          ]
        }
      ]
    },
    {
      "cell_type": "markdown",
      "metadata": {
        "id": "y9fKwWBharUv"
      },
      "source": [
        "# Language Basic Syntax"
      ]
    },
    {
      "cell_type": "markdown",
      "metadata": {
        "id": "aBO--ueh0clB"
      },
      "source": [
        "## Hello World, Comments and Object Assignment"
      ]
    },
    {
      "cell_type": "code",
      "metadata": {
        "id": "U1Ty-lwMSOv0",
        "colab": {
          "base_uri": "https://localhost:8080/",
          "height": 87
        },
        "outputId": "d50cd581-1c50-43a1-8c2b-d938d8e9bf94"
      },
      "source": [
        "\"- R is case sensitive\n",
        "- Commands are separated by either ; or a new line\"\n",
        "# Comments can be done using '#', except inside strings.\n",
        "a = 'string 1'; A = 'string 2'; print(a); print(A)\n",
        "\"Sentences like these are evaluated, but they are not captured in any variable. Hence, their value is lost.\""
      ],
      "execution_count": 123,
      "outputs": [
        {
          "output_type": "display_data",
          "data": {
            "text/html": [
              "'- R is case sensitive\\n- Commands are separated by either ; or a new line'"
            ],
            "text/markdown": "'- R is case sensitive\\n- Commands are separated by either ; or a new line'",
            "text/latex": "'- R is case sensitive\\textbackslash{}n- Commands are separated by either ; or a new line'",
            "text/plain": [
              "[1] \"- R is case sensitive\\n- Commands are separated by either ; or a new line\""
            ]
          },
          "metadata": {}
        },
        {
          "output_type": "stream",
          "name": "stdout",
          "text": [
            "[1] \"string 1\"\n",
            "[1] \"string 2\"\n"
          ]
        },
        {
          "output_type": "display_data",
          "data": {
            "text/html": [
              "'Sentences like these are evaluated, but they are not captured in any variable. Hence, their value is lost.'"
            ],
            "text/markdown": "'Sentences like these are evaluated, but they are not captured in any variable. Hence, their value is lost.'",
            "text/latex": "'Sentences like these are evaluated, but they are not captured in any variable. Hence, their value is lost.'",
            "text/plain": [
              "[1] \"Sentences like these are evaluated, but they are not captured in any variable. Hence, their value is lost.\""
            ]
          },
          "metadata": {}
        }
      ]
    },
    {
      "cell_type": "markdown",
      "metadata": {
        "id": "21gVSXXE36VZ"
      },
      "source": [
        "**Standard Way to do Assignment in R**"
      ]
    },
    {
      "cell_type": "markdown",
      "metadata": {
        "id": "TnBOaT0r4QVC"
      },
      "source": [
        "Though the `=` symbol can be used to assignment the value to an object, R has standardized `=` to be used with function arguments. Conventionally, objects can be assigned in one of the following ways."
      ]
    },
    {
      "cell_type": "code",
      "metadata": {
        "id": "HrwsISva4zjK"
      },
      "source": [
        "assign('b', 'new_object1')\n",
        "c <- 'new_object2'\n",
        "'new_object3' -> d\n",
        "e <- f <- g <- 'new_object4'"
      ],
      "execution_count": 124,
      "outputs": []
    },
    {
      "cell_type": "markdown",
      "metadata": {
        "id": "YbOgogJP0kjd"
      },
      "source": [
        "## Listing and Removing Objects"
      ]
    },
    {
      "cell_type": "markdown",
      "metadata": {
        "id": "ur1OgyDi0plI"
      },
      "source": [
        "Both `ls` and `objects` commands can be used to list the objects of the current R session."
      ]
    },
    {
      "cell_type": "code",
      "metadata": {
        "colab": {
          "base_uri": "https://localhost:8080/",
          "height": 34
        },
        "id": "7feg0bt3zlcj",
        "outputId": "6e7d61cc-ad54-434b-e9bb-8d1bb41cf2fb"
      },
      "source": [
        "ls()"
      ],
      "execution_count": 125,
      "outputs": [
        {
          "output_type": "display_data",
          "data": {
            "text/html": [
              "<style>\n",
              ".list-inline {list-style: none; margin:0; padding: 0}\n",
              ".list-inline>li {display: inline-block}\n",
              ".list-inline>li:not(:last-child)::after {content: \"\\00b7\"; padding: 0 .5ex}\n",
              "</style>\n",
              "<ol class=list-inline><li>'a'</li><li>'A'</li><li>'b'</li><li>'c'</li><li>'d'</li><li>'e'</li><li>'f'</li><li>'g'</li><li>'i'</li><li>'T'</li><li>'t1'</li><li>'t2'</li></ol>\n"
            ],
            "text/markdown": "1. 'a'\n2. 'A'\n3. 'b'\n4. 'c'\n5. 'd'\n6. 'e'\n7. 'f'\n8. 'g'\n9. 'i'\n10. 'T'\n11. 't1'\n12. 't2'\n\n\n",
            "text/latex": "\\begin{enumerate*}\n\\item 'a'\n\\item 'A'\n\\item 'b'\n\\item 'c'\n\\item 'd'\n\\item 'e'\n\\item 'f'\n\\item 'g'\n\\item 'i'\n\\item 'T'\n\\item 't1'\n\\item 't2'\n\\end{enumerate*}\n",
            "text/plain": [
              " [1] \"a\"  \"A\"  \"b\"  \"c\"  \"d\"  \"e\"  \"f\"  \"g\"  \"i\"  \"T\"  \"t1\" \"t2\""
            ]
          },
          "metadata": {}
        }
      ]
    },
    {
      "cell_type": "code",
      "metadata": {
        "colab": {
          "base_uri": "https://localhost:8080/",
          "height": 34
        },
        "id": "bXYxo626zuMW",
        "outputId": "37ff1b18-5261-4eea-a497-b893b1aa2813"
      },
      "source": [
        "objects()"
      ],
      "execution_count": 126,
      "outputs": [
        {
          "output_type": "display_data",
          "data": {
            "text/html": [
              "<style>\n",
              ".list-inline {list-style: none; margin:0; padding: 0}\n",
              ".list-inline>li {display: inline-block}\n",
              ".list-inline>li:not(:last-child)::after {content: \"\\00b7\"; padding: 0 .5ex}\n",
              "</style>\n",
              "<ol class=list-inline><li>'a'</li><li>'A'</li><li>'b'</li><li>'c'</li><li>'d'</li><li>'e'</li><li>'f'</li><li>'g'</li><li>'i'</li><li>'T'</li><li>'t1'</li><li>'t2'</li></ol>\n"
            ],
            "text/markdown": "1. 'a'\n2. 'A'\n3. 'b'\n4. 'c'\n5. 'd'\n6. 'e'\n7. 'f'\n8. 'g'\n9. 'i'\n10. 'T'\n11. 't1'\n12. 't2'\n\n\n",
            "text/latex": "\\begin{enumerate*}\n\\item 'a'\n\\item 'A'\n\\item 'b'\n\\item 'c'\n\\item 'd'\n\\item 'e'\n\\item 'f'\n\\item 'g'\n\\item 'i'\n\\item 'T'\n\\item 't1'\n\\item 't2'\n\\end{enumerate*}\n",
            "text/plain": [
              " [1] \"a\"  \"A\"  \"b\"  \"c\"  \"d\"  \"e\"  \"f\"  \"g\"  \"i\"  \"T\"  \"t1\" \"t2\""
            ]
          },
          "metadata": {}
        }
      ]
    },
    {
      "cell_type": "markdown",
      "metadata": {
        "id": "yc1ZHDg00z0b"
      },
      "source": [
        "**Hidden Objects**\n",
        "\n",
        "The object name can start with the `.` character. In that case, it won't appear when listing objects"
      ]
    },
    {
      "cell_type": "code",
      "metadata": {
        "id": "1BJdoRKrbmG3",
        "colab": {
          "base_uri": "https://localhost:8080/"
        },
        "outputId": "726091b5-820a-4159-b6b5-3a6b89e0a39c"
      },
      "source": [
        "# Variables labels can start with the '.' character.\n",
        ".username = 'Student123'\n",
        "print(.username)"
      ],
      "execution_count": 127,
      "outputs": [
        {
          "output_type": "stream",
          "name": "stdout",
          "text": [
            "[1] \"Student123\"\n"
          ]
        }
      ]
    },
    {
      "cell_type": "code",
      "metadata": {
        "colab": {
          "base_uri": "https://localhost:8080/",
          "height": 34
        },
        "id": "2oqL9u-v1Eox",
        "outputId": "0e59bed2-97ae-438d-dc52-d8a06128f158"
      },
      "source": [
        "ls()"
      ],
      "execution_count": 128,
      "outputs": [
        {
          "output_type": "display_data",
          "data": {
            "text/html": [
              "<style>\n",
              ".list-inline {list-style: none; margin:0; padding: 0}\n",
              ".list-inline>li {display: inline-block}\n",
              ".list-inline>li:not(:last-child)::after {content: \"\\00b7\"; padding: 0 .5ex}\n",
              "</style>\n",
              "<ol class=list-inline><li>'a'</li><li>'A'</li><li>'b'</li><li>'c'</li><li>'d'</li><li>'e'</li><li>'f'</li><li>'g'</li><li>'i'</li><li>'T'</li><li>'t1'</li><li>'t2'</li></ol>\n"
            ],
            "text/markdown": "1. 'a'\n2. 'A'\n3. 'b'\n4. 'c'\n5. 'd'\n6. 'e'\n7. 'f'\n8. 'g'\n9. 'i'\n10. 'T'\n11. 't1'\n12. 't2'\n\n\n",
            "text/latex": "\\begin{enumerate*}\n\\item 'a'\n\\item 'A'\n\\item 'b'\n\\item 'c'\n\\item 'd'\n\\item 'e'\n\\item 'f'\n\\item 'g'\n\\item 'i'\n\\item 'T'\n\\item 't1'\n\\item 't2'\n\\end{enumerate*}\n",
            "text/plain": [
              " [1] \"a\"  \"A\"  \"b\"  \"c\"  \"d\"  \"e\"  \"f\"  \"g\"  \"i\"  \"T\"  \"t1\" \"t2\""
            ]
          },
          "metadata": {}
        }
      ]
    },
    {
      "cell_type": "code",
      "metadata": {
        "colab": {
          "base_uri": "https://localhost:8080/",
          "height": 34
        },
        "id": "kZ7flozi1Eo_",
        "outputId": "590a5f06-6f4d-4a50-8cd5-bc371a1f3e78"
      },
      "source": [
        "objects()"
      ],
      "execution_count": 129,
      "outputs": [
        {
          "output_type": "display_data",
          "data": {
            "text/html": [
              "<style>\n",
              ".list-inline {list-style: none; margin:0; padding: 0}\n",
              ".list-inline>li {display: inline-block}\n",
              ".list-inline>li:not(:last-child)::after {content: \"\\00b7\"; padding: 0 .5ex}\n",
              "</style>\n",
              "<ol class=list-inline><li>'a'</li><li>'A'</li><li>'b'</li><li>'c'</li><li>'d'</li><li>'e'</li><li>'f'</li><li>'g'</li><li>'i'</li><li>'T'</li><li>'t1'</li><li>'t2'</li></ol>\n"
            ],
            "text/markdown": "1. 'a'\n2. 'A'\n3. 'b'\n4. 'c'\n5. 'd'\n6. 'e'\n7. 'f'\n8. 'g'\n9. 'i'\n10. 'T'\n11. 't1'\n12. 't2'\n\n\n",
            "text/latex": "\\begin{enumerate*}\n\\item 'a'\n\\item 'A'\n\\item 'b'\n\\item 'c'\n\\item 'd'\n\\item 'e'\n\\item 'f'\n\\item 'g'\n\\item 'i'\n\\item 'T'\n\\item 't1'\n\\item 't2'\n\\end{enumerate*}\n",
            "text/plain": [
              " [1] \"a\"  \"A\"  \"b\"  \"c\"  \"d\"  \"e\"  \"f\"  \"g\"  \"i\"  \"T\"  \"t1\" \"t2\""
            ]
          },
          "metadata": {}
        }
      ]
    },
    {
      "cell_type": "markdown",
      "metadata": {
        "id": "p-15r4rX1vDU"
      },
      "source": [
        "## Task 1: Showing All Objects"
      ]
    },
    {
      "cell_type": "markdown",
      "metadata": {
        "id": "WlLvDMqj1nDF"
      },
      "source": [
        "Using the help of the `ls` command, find and set the argument to show all object names, including the ones that begins with the `.` character."
      ]
    },
    {
      "cell_type": "code",
      "metadata": {
        "id": "ZEQf0bKW2SFR"
      },
      "source": [
        "?ls"
      ],
      "execution_count": 130,
      "outputs": []
    },
    {
      "cell_type": "code",
      "metadata": {
        "id": "yqp3KlbG2TGi",
        "colab": {
          "base_uri": "https://localhost:8080/",
          "height": 34
        },
        "outputId": "951a35c7-10a7-4c1b-df87-3715f13e4923"
      },
      "source": [
        "ls(all.names = TRUE)"
      ],
      "execution_count": 134,
      "outputs": [
        {
          "output_type": "display_data",
          "data": {
            "text/html": [
              "<style>\n",
              ".list-inline {list-style: none; margin:0; padding: 0}\n",
              ".list-inline>li {display: inline-block}\n",
              ".list-inline>li:not(:last-child)::after {content: \"\\00b7\"; padding: 0 .5ex}\n",
              "</style>\n",
              "<ol class=list-inline><li>'.pbd_env'</li><li>'.Random.seed'</li><li>'.username'</li><li>'a'</li><li>'A'</li><li>'b'</li><li>'c'</li><li>'d'</li><li>'e'</li><li>'f'</li><li>'g'</li><li>'i'</li><li>'T'</li><li>'t1'</li><li>'t2'</li></ol>\n"
            ],
            "text/markdown": "1. '.pbd_env'\n2. '.Random.seed'\n3. '.username'\n4. 'a'\n5. 'A'\n6. 'b'\n7. 'c'\n8. 'd'\n9. 'e'\n10. 'f'\n11. 'g'\n12. 'i'\n13. 'T'\n14. 't1'\n15. 't2'\n\n\n",
            "text/latex": "\\begin{enumerate*}\n\\item '.pbd\\_env'\n\\item '.Random.seed'\n\\item '.username'\n\\item 'a'\n\\item 'A'\n\\item 'b'\n\\item 'c'\n\\item 'd'\n\\item 'e'\n\\item 'f'\n\\item 'g'\n\\item 'i'\n\\item 'T'\n\\item 't1'\n\\item 't2'\n\\end{enumerate*}\n",
            "text/plain": [
              " [1] \".pbd_env\"     \".Random.seed\" \".username\"    \"a\"            \"A\"           \n",
              " [6] \"b\"            \"c\"            \"d\"            \"e\"            \"f\"           \n",
              "[11] \"g\"            \"i\"            \"T\"            \"t1\"           \"t2\"          "
            ]
          },
          "metadata": {}
        }
      ]
    },
    {
      "cell_type": "markdown",
      "metadata": {
        "id": "yqGx3Gvd1HCK"
      },
      "source": [
        "**Removing Objects**\n",
        "\n",
        "Let's remove some objects using the `rm` command."
      ]
    },
    {
      "cell_type": "code",
      "metadata": {
        "id": "GrUud2tU1NHK"
      },
      "source": [
        "rm(a)"
      ],
      "execution_count": 135,
      "outputs": []
    },
    {
      "cell_type": "code",
      "metadata": {
        "id": "Z-LadOVcz2Ja",
        "colab": {
          "base_uri": "https://localhost:8080/",
          "height": 34
        },
        "outputId": "c6043e47-7328-4a3e-f9d2-96409e2a2650"
      },
      "source": [
        "ls(all.names = TRUE)"
      ],
      "execution_count": 140,
      "outputs": [
        {
          "output_type": "display_data",
          "data": {
            "text/html": [
              "<style>\n",
              ".list-inline {list-style: none; margin:0; padding: 0}\n",
              ".list-inline>li {display: inline-block}\n",
              ".list-inline>li:not(:last-child)::after {content: \"\\00b7\"; padding: 0 .5ex}\n",
              "</style>\n",
              "<ol class=list-inline><li>'.pbd_env'</li><li>'.Random.seed'</li><li>'.username'</li></ol>\n"
            ],
            "text/markdown": "1. '.pbd_env'\n2. '.Random.seed'\n3. '.username'\n\n\n",
            "text/latex": "\\begin{enumerate*}\n\\item '.pbd\\_env'\n\\item '.Random.seed'\n\\item '.username'\n\\end{enumerate*}\n",
            "text/plain": [
              "[1] \".pbd_env\"     \".Random.seed\" \".username\"   "
            ]
          },
          "metadata": {}
        }
      ]
    },
    {
      "cell_type": "markdown",
      "metadata": {
        "id": "POyt08_95dMe"
      },
      "source": [
        "**Removing All Objects**\n",
        "\n",
        "Let's remove all objects, except the ones whose name starts with the `.` character."
      ]
    },
    {
      "cell_type": "code",
      "metadata": {
        "id": "CQAKH5SL5wRW"
      },
      "source": [
        "rm(list=ls(all.names = FALSE))"
      ],
      "execution_count": 142,
      "outputs": []
    },
    {
      "cell_type": "code",
      "source": [
        "ls(all.names = TRUE)"
      ],
      "metadata": {
        "colab": {
          "base_uri": "https://localhost:8080/",
          "height": 34
        },
        "id": "B-4YJY6BrgVD",
        "outputId": "f9a19df8-4cb2-48c2-b55f-81450d103f9f"
      },
      "execution_count": 141,
      "outputs": [
        {
          "output_type": "display_data",
          "data": {
            "text/html": [
              "<style>\n",
              ".list-inline {list-style: none; margin:0; padding: 0}\n",
              ".list-inline>li {display: inline-block}\n",
              ".list-inline>li:not(:last-child)::after {content: \"\\00b7\"; padding: 0 .5ex}\n",
              "</style>\n",
              "<ol class=list-inline><li>'.pbd_env'</li><li>'.Random.seed'</li><li>'.username'</li></ol>\n"
            ],
            "text/markdown": "1. '.pbd_env'\n2. '.Random.seed'\n3. '.username'\n\n\n",
            "text/latex": "\\begin{enumerate*}\n\\item '.pbd\\_env'\n\\item '.Random.seed'\n\\item '.username'\n\\end{enumerate*}\n",
            "text/plain": [
              "[1] \".pbd_env\"     \".Random.seed\" \".username\"   "
            ]
          },
          "metadata": {}
        }
      ]
    },
    {
      "cell_type": "markdown",
      "metadata": {
        "id": "-oHdCarB-TBd"
      },
      "source": [
        "## Function Definition"
      ]
    },
    {
      "cell_type": "markdown",
      "metadata": {
        "id": "R4bMM5G3-Yc3"
      },
      "source": [
        "Below is the syntax for defining a function in R."
      ]
    },
    {
      "cell_type": "code",
      "metadata": {
        "colab": {
          "base_uri": "https://localhost:8080/",
          "height": 52
        },
        "id": "ONaJ4nOC-W5L",
        "outputId": "a67a205e-9d9b-4dad-b407-3102827e79d9"
      },
      "source": [
        "say <- function(something, another_thing){\n",
        "  print(something)\n",
        "  return(another_thing)\n",
        "}\n",
        "\n",
        "result <- say('what I want', 'what I get')\n",
        "result"
      ],
      "execution_count": 16,
      "outputs": [
        {
          "output_type": "stream",
          "name": "stdout",
          "text": [
            "[1] \"what I want\"\n"
          ]
        },
        {
          "output_type": "display_data",
          "data": {
            "text/html": [
              "'what I get'"
            ],
            "text/markdown": "'what I get'",
            "text/latex": "'what I get'",
            "text/plain": [
              "[1] \"what I get\""
            ]
          },
          "metadata": {}
        }
      ]
    },
    {
      "cell_type": "markdown",
      "metadata": {
        "id": "3_Cnjlyk3R5E"
      },
      "source": [
        "# Simple Manipulation, Numbers and Vectors"
      ]
    },
    {
      "cell_type": "markdown",
      "metadata": {
        "id": "IVyF01Jd6klx"
      },
      "source": [
        "## Basic Arithmetics"
      ]
    },
    {
      "cell_type": "code",
      "metadata": {
        "colab": {
          "base_uri": "https://localhost:8080/",
          "height": 69
        },
        "id": "BSf3f1xn6nQg",
        "outputId": "3d527d2f-5e28-4050-bef3-8859572e9fb3"
      },
      "source": [
        "# Basic math operators are built-in in R\n",
        "1+7*2/3\n",
        "(1+7*2)/3\n",
        "((1+7*2)/3)^2"
      ],
      "execution_count": 17,
      "outputs": [
        {
          "output_type": "display_data",
          "data": {
            "text/html": [
              "5.66666666666667"
            ],
            "text/markdown": "5.66666666666667",
            "text/latex": "5.66666666666667",
            "text/plain": [
              "[1] 5.666667"
            ]
          },
          "metadata": {}
        },
        {
          "output_type": "display_data",
          "data": {
            "text/html": [
              "5"
            ],
            "text/markdown": "5",
            "text/latex": "5",
            "text/plain": [
              "[1] 5"
            ]
          },
          "metadata": {}
        },
        {
          "output_type": "display_data",
          "data": {
            "text/html": [
              "25"
            ],
            "text/markdown": "25",
            "text/latex": "25",
            "text/plain": [
              "[1] 25"
            ]
          },
          "metadata": {}
        }
      ]
    },
    {
      "cell_type": "markdown",
      "metadata": {
        "id": "mdd28Z-r8Wbr"
      },
      "source": [
        "## Task 2: Try other basic operators"
      ]
    },
    {
      "cell_type": "markdown",
      "metadata": {
        "id": "_wiHptPE8ah2"
      },
      "source": [
        "Other common arithmentic operators (`log`, `exp`, `sin`, `cos`, `tan`, `sqrt`, and so on) are also available.\n",
        "\n",
        "Knowing that the sigmoid function is given by\n",
        "\n",
        "$$\n",
        "S(x) = \\frac{1}{1+e^{-x}}\n",
        "$$\n",
        "\n",
        "Write an expression below to evaluate the sigmoid with the value in `x`.\n",
        "\n",
        "For `x = 0` the result should be `0.5`."
      ]
    },
    {
      "cell_type": "code",
      "metadata": {
        "colab": {
          "base_uri": "https://localhost:8080/"
        },
        "id": "NE5hihpf8aDX",
        "outputId": "0ef17b83-6334-467f-e855-48e4eb056222"
      },
      "source": [
        "x = 0\n",
        "result <- 1/(1+exp(-x))\n",
        "print(result)"
      ],
      "execution_count": 146,
      "outputs": [
        {
          "output_type": "stream",
          "name": "stdout",
          "text": [
            "[1] 0.5\n"
          ]
        }
      ]
    },
    {
      "cell_type": "markdown",
      "metadata": {
        "id": "4obNZmGUsqjV"
      },
      "source": [
        "## R Data Types\n",
        "\n"
      ]
    },
    {
      "cell_type": "markdown",
      "metadata": {
        "id": "_dBPu33Vsvux"
      },
      "source": [
        "- Everything in R is an object\n",
        "- R has 6 basic types\n",
        "  - logical numeric (real or decimal)\n",
        "  - integer\n",
        "  - complex\n",
        "  - character\n",
        "  - raw (for raw byte data, typically for binary information)"
      ]
    },
    {
      "cell_type": "markdown",
      "metadata": {
        "id": "djcIJKVIuwRG"
      },
      "source": [
        "**Class**"
      ]
    },
    {
      "cell_type": "code",
      "metadata": {
        "colab": {
          "base_uri": "https://localhost:8080/",
          "height": 34
        },
        "id": "Y3aL5fgstH_J",
        "outputId": "fd7631be-b79e-4571-fc94-3304b1feee54"
      },
      "source": [
        "class(TRUE) # TRUE and FALSE are capitalized in R. ## \"logical\""
      ],
      "execution_count": 19,
      "outputs": [
        {
          "output_type": "display_data",
          "data": {
            "text/html": [
              "'logical'"
            ],
            "text/markdown": "'logical'",
            "text/latex": "'logical'",
            "text/plain": [
              "[1] \"logical\""
            ]
          },
          "metadata": {}
        }
      ]
    },
    {
      "cell_type": "code",
      "metadata": {
        "colab": {
          "base_uri": "https://localhost:8080/",
          "height": 34
        },
        "id": "nT7BLR5btJYS",
        "outputId": "0d20d4a0-2308-47db-db3c-e4a9017da6ff"
      },
      "source": [
        "class(T) # T and F are capitalized in R. ## \"logical\""
      ],
      "execution_count": 20,
      "outputs": [
        {
          "output_type": "display_data",
          "data": {
            "text/html": [
              "'logical'"
            ],
            "text/markdown": "'logical'",
            "text/latex": "'logical'",
            "text/plain": [
              "[1] \"logical\""
            ]
          },
          "metadata": {}
        }
      ]
    },
    {
      "cell_type": "code",
      "metadata": {
        "colab": {
          "base_uri": "https://localhost:8080/",
          "height": 34
        },
        "id": "rRXyziQEtK_T",
        "outputId": "108ad726-d074-493e-ad8e-90fdf448cf6d"
      },
      "source": [
        "class(23.5) # \"numeric\""
      ],
      "execution_count": 21,
      "outputs": [
        {
          "output_type": "display_data",
          "data": {
            "text/html": [
              "'numeric'"
            ],
            "text/markdown": "'numeric'",
            "text/latex": "'numeric'",
            "text/plain": [
              "[1] \"numeric\""
            ]
          },
          "metadata": {}
        }
      ]
    },
    {
      "cell_type": "code",
      "metadata": {
        "colab": {
          "base_uri": "https://localhost:8080/",
          "height": 34
        },
        "id": "36zTNqVVtUoi",
        "outputId": "73bf4600-7679-481f-a958-9992087601b4"
      },
      "source": [
        "class(2L) # L Extends for Long (int) 32-bits. # \"integer\""
      ],
      "execution_count": 22,
      "outputs": [
        {
          "output_type": "display_data",
          "data": {
            "text/html": [
              "'integer'"
            ],
            "text/markdown": "'integer'",
            "text/latex": "'integer'",
            "text/plain": [
              "[1] \"integer\""
            ]
          },
          "metadata": {}
        }
      ]
    },
    {
      "cell_type": "markdown",
      "metadata": {
        "id": "sN5Jm-eBuy8A"
      },
      "source": [
        "**Type**"
      ]
    },
    {
      "cell_type": "code",
      "metadata": {
        "id": "pnaRAo5LtDd4",
        "colab": {
          "base_uri": "https://localhost:8080/",
          "height": 34
        },
        "outputId": "72e36b56-8d67-418d-a440-91512c356e27"
      },
      "source": [
        "typeof(2+5i) # \"complex\""
      ],
      "execution_count": 23,
      "outputs": [
        {
          "output_type": "display_data",
          "data": {
            "text/html": [
              "'complex'"
            ],
            "text/markdown": "'complex'",
            "text/latex": "'complex'",
            "text/plain": [
              "[1] \"complex\""
            ]
          },
          "metadata": {}
        }
      ]
    },
    {
      "cell_type": "code",
      "metadata": {
        "id": "M00hzbojtbhD",
        "colab": {
          "base_uri": "https://localhost:8080/",
          "height": 34
        },
        "outputId": "fa2595a1-f6fb-4925-fd47-4626b37a9d61"
      },
      "source": [
        "typeof(\"TRUE\") # \"character\""
      ],
      "execution_count": 24,
      "outputs": [
        {
          "output_type": "display_data",
          "data": {
            "text/html": [
              "'character'"
            ],
            "text/markdown": "'character'",
            "text/latex": "'character'",
            "text/plain": [
              "[1] \"character\""
            ]
          },
          "metadata": {}
        }
      ]
    },
    {
      "cell_type": "code",
      "metadata": {
        "id": "-ZYLjK4AtccX",
        "colab": {
          "base_uri": "https://localhost:8080/",
          "height": 34
        },
        "outputId": "fae12004-f259-4ab0-b39f-82d046ad8374"
      },
      "source": [
        "typeof(charToRaw(\"TRUE\")) # \"raw\""
      ],
      "execution_count": 25,
      "outputs": [
        {
          "output_type": "display_data",
          "data": {
            "text/html": [
              "'raw'"
            ],
            "text/markdown": "'raw'",
            "text/latex": "'raw'",
            "text/plain": [
              "[1] \"raw\""
            ]
          },
          "metadata": {}
        }
      ]
    },
    {
      "cell_type": "markdown",
      "metadata": {
        "id": "7GrEQXPavkwz"
      },
      "source": [
        "**Class vs Type**\n",
        "\n",
        "From [Stackoverflow](https://stackoverflow.com/a/62052252/2313889):\n",
        "\n",
        "> simply put, the only really useful ones are `class()` and `typeof()`\n",
        ">\n",
        "> `class` can be described as the 'container' of an object, an attribute that makes this object behave externally with functions that take this particular 'type' of object as argument\n",
        ">\n",
        "> `type` is what this object is made of inside the container, the 'type' of underlying values\n",
        ">\n",
        "> good obvious example:"
      ]
    },
    {
      "cell_type": "code",
      "metadata": {
        "colab": {
          "base_uri": "https://localhost:8080/",
          "height": 52
        },
        "id": "8sHUh-THwNl2",
        "outputId": "d3a0ec98-b580-4724-cc5a-9381389c4b0a"
      },
      "source": [
        "x <- as.Date('2010-01-01')\n",
        "class(x) # Date\n",
        "typeof(x) # double"
      ],
      "execution_count": 56,
      "outputs": [
        {
          "output_type": "display_data",
          "data": {
            "text/html": [
              "'Date'"
            ],
            "text/markdown": "'Date'",
            "text/latex": "'Date'",
            "text/plain": [
              "[1] \"Date\""
            ]
          },
          "metadata": {}
        },
        {
          "output_type": "display_data",
          "data": {
            "text/html": [
              "'double'"
            ],
            "text/markdown": "'double'",
            "text/latex": "'double'",
            "text/plain": [
              "[1] \"double\""
            ]
          },
          "metadata": {}
        }
      ]
    },
    {
      "cell_type": "markdown",
      "metadata": {
        "id": "zCmKzOgy3lxd"
      },
      "source": [
        "## Vectors\n",
        "\n",
        "Vectors are the simplest *data structure* in R"
      ]
    },
    {
      "cell_type": "code",
      "metadata": {
        "colab": {
          "base_uri": "https://localhost:8080/",
          "height": 34
        },
        "id": "k8vFtDpX3iX9",
        "outputId": "748afafe-24b8-43b8-ae92-8318a6402c5c"
      },
      "source": [
        "x <- c(2, 4, 6)\n",
        "x"
      ],
      "execution_count": 57,
      "outputs": [
        {
          "output_type": "display_data",
          "data": {
            "text/html": [
              "<style>\n",
              ".list-inline {list-style: none; margin:0; padding: 0}\n",
              ".list-inline>li {display: inline-block}\n",
              ".list-inline>li:not(:last-child)::after {content: \"\\00b7\"; padding: 0 .5ex}\n",
              "</style>\n",
              "<ol class=list-inline><li>2</li><li>4</li><li>6</li></ol>\n"
            ],
            "text/markdown": "1. 2\n2. 4\n3. 6\n\n\n",
            "text/latex": "\\begin{enumerate*}\n\\item 2\n\\item 4\n\\item 6\n\\end{enumerate*}\n",
            "text/plain": [
              "[1] 2 4 6"
            ]
          },
          "metadata": {}
        }
      ]
    },
    {
      "cell_type": "code",
      "metadata": {
        "colab": {
          "base_uri": "https://localhost:8080/",
          "height": 52
        },
        "id": "1Utgh44JtojX",
        "outputId": "96e0d428-e140-4743-b71d-925bbcb8255f"
      },
      "source": [
        "# Vector is the default structure in R\n",
        "a = 1L; is.vector(a)\n",
        "a = 'a'; is.vector(a)"
      ],
      "execution_count": 28,
      "outputs": [
        {
          "output_type": "display_data",
          "data": {
            "text/html": [
              "TRUE"
            ],
            "text/markdown": "TRUE",
            "text/latex": "TRUE",
            "text/plain": [
              "[1] TRUE"
            ]
          },
          "metadata": {}
        },
        {
          "output_type": "display_data",
          "data": {
            "text/html": [
              "TRUE"
            ],
            "text/markdown": "TRUE",
            "text/latex": "TRUE",
            "text/plain": [
              "[1] TRUE"
            ]
          },
          "metadata": {}
        }
      ]
    },
    {
      "cell_type": "markdown",
      "metadata": {
        "id": "XuXqcz13A4Cc"
      },
      "source": [
        "**Creating Vectors with Vectors**"
      ]
    },
    {
      "cell_type": "code",
      "metadata": {
        "colab": {
          "base_uri": "https://localhost:8080/",
          "height": 34
        },
        "id": "LW23cjnfA4j1",
        "outputId": "b6b3e48f-ff7c-4a7e-f8ca-a987f5144819"
      },
      "source": [
        "# Using a vector to compose another vector\n",
        "y <- c(-x, 0, x)\n",
        "y"
      ],
      "execution_count": 58,
      "outputs": [
        {
          "output_type": "display_data",
          "data": {
            "text/html": [
              "<style>\n",
              ".list-inline {list-style: none; margin:0; padding: 0}\n",
              ".list-inline>li {display: inline-block}\n",
              ".list-inline>li:not(:last-child)::after {content: \"\\00b7\"; padding: 0 .5ex}\n",
              "</style>\n",
              "<ol class=list-inline><li>-2</li><li>-4</li><li>-6</li><li>0</li><li>2</li><li>4</li><li>6</li></ol>\n"
            ],
            "text/markdown": "1. -2\n2. -4\n3. -6\n4. 0\n5. 2\n6. 4\n7. 6\n\n\n",
            "text/latex": "\\begin{enumerate*}\n\\item -2\n\\item -4\n\\item -6\n\\item 0\n\\item 2\n\\item 4\n\\item 6\n\\end{enumerate*}\n",
            "text/plain": [
              "[1] -2 -4 -6  0  2  4  6"
            ]
          },
          "metadata": {}
        }
      ]
    },
    {
      "cell_type": "markdown",
      "metadata": {
        "id": "hELRMM7rAJYH"
      },
      "source": [
        "## Task 3: Sigmoid as a function"
      ]
    },
    {
      "cell_type": "markdown",
      "metadata": {
        "id": "vrx9eIDVARRN"
      },
      "source": [
        "Wrap the calculation for the sigmoid into a function. Then use this function to compute the sigmoid of `y`."
      ]
    },
    {
      "cell_type": "code",
      "metadata": {
        "id": "ubmBgbwOAY6v"
      },
      "source": [
        "sigmoid <- function(x){\n",
        "  result <- 1/(1+exp(-x))\n",
        "  print(result)\n",
        "}"
      ],
      "execution_count": 1,
      "outputs": []
    },
    {
      "cell_type": "code",
      "metadata": {
        "colab": {
          "base_uri": "https://localhost:8080/"
        },
        "id": "_bcv8uWvAdmz",
        "outputId": "75c074ca-8c3f-4467-c3f6-207f5445b587"
      },
      "source": [
        "sigmoid(4)"
      ],
      "execution_count": 3,
      "outputs": [
        {
          "output_type": "stream",
          "name": "stdout",
          "text": [
            "[1] 0.9820138\n"
          ]
        }
      ]
    },
    {
      "cell_type": "code",
      "source": [
        "sigmoid(6)"
      ],
      "metadata": {
        "colab": {
          "base_uri": "https://localhost:8080/"
        },
        "id": "U11F3IcUCgpG",
        "outputId": "19aa52c9-fd82-4fce-9f30-46240d270a50"
      },
      "execution_count": 4,
      "outputs": [
        {
          "output_type": "stream",
          "name": "stdout",
          "text": [
            "[1] 0.9975274\n"
          ]
        }
      ]
    },
    {
      "cell_type": "markdown",
      "metadata": {
        "id": "mh_PB8qTADQV"
      },
      "source": [
        "**Additional operation on vectors**"
      ]
    },
    {
      "cell_type": "markdown",
      "metadata": {
        "id": "BDeBfqKpAHP9"
      },
      "source": [
        "- `max` and `min` select the largest and smallest elements of a vector respectively;\n",
        "- `range` is a function whose value is a vector of length two, namely `c(min(x), max(x))`;\n",
        "-`length(x)` is the number of elements in `x`;\n",
        "- `sum(x)` gives the total of the elements in `x`;\n",
        "- `prod(x)` gives the total product of the elements in `x`;\n",
        "- `mean(x)` and `var(x)` gives the mean and variance of the vector, respectively.\n",
        "- etc..."
      ]
    },
    {
      "cell_type": "markdown",
      "metadata": {
        "id": "v6W4x8z6DSTu"
      },
      "source": [
        "**Generating Regular Sequences**"
      ]
    },
    {
      "cell_type": "code",
      "metadata": {
        "colab": {
          "base_uri": "https://localhost:8080/"
        },
        "id": "ass82Vqo7ng8",
        "outputId": "8dbe0ce2-7afb-4b6f-9423-998652808479"
      },
      "source": [
        "a <- -10:10\n",
        "print(a)"
      ],
      "execution_count": 62,
      "outputs": [
        {
          "output_type": "stream",
          "name": "stdout",
          "text": [
            " [1] -10  -9  -8  -7  -6  -5  -4  -3  -2  -1   0   1   2   3   4   5   6   7   8\n",
            "[20]   9  10\n"
          ]
        }
      ]
    },
    {
      "cell_type": "markdown",
      "metadata": {
        "id": "fF_Z8Rj7FNde"
      },
      "source": [
        "**Using `seq` function**"
      ]
    },
    {
      "cell_type": "code",
      "metadata": {
        "colab": {
          "base_uri": "https://localhost:8080/"
        },
        "id": "6RaPiUV2Ese2",
        "outputId": "6900ab23-17ff-4a31-e75e-f177bb070e13"
      },
      "source": [
        "b <- seq(from=-10, to=10, by=2)\n",
        "print(b)"
      ],
      "execution_count": 63,
      "outputs": [
        {
          "output_type": "stream",
          "name": "stdout",
          "text": [
            " [1] -10  -8  -6  -4  -2   0   2   4   6   8  10\n"
          ]
        }
      ]
    },
    {
      "cell_type": "code",
      "metadata": {
        "colab": {
          "base_uri": "https://localhost:8080/"
        },
        "id": "7nDeQadqEtnM",
        "outputId": "cbe76a28-08bc-4deb-8387-cfdc437a1855"
      },
      "source": [
        "c <- seq(from=-10, by=2, length=5)\n",
        "print(c)"
      ],
      "execution_count": 5,
      "outputs": [
        {
          "output_type": "stream",
          "name": "stdout",
          "text": [
            "[1] -10  -8  -6  -4  -2\n"
          ]
        }
      ]
    },
    {
      "cell_type": "markdown",
      "metadata": {
        "id": "8L-epL4KFBri"
      },
      "source": [
        "**Repeating Values of Vector**"
      ]
    },
    {
      "cell_type": "code",
      "metadata": {
        "colab": {
          "base_uri": "https://localhost:8080/"
        },
        "id": "lT4M6VYf7h_4",
        "outputId": "d0081519-ecd2-42a1-887e-0e1b04bfe443"
      },
      "source": [
        "d <- rep(c, times=3) # puts three copies of x end-to-end\n",
        "print(d)"
      ],
      "execution_count": 65,
      "outputs": [
        {
          "output_type": "stream",
          "name": "stdout",
          "text": [
            " [1] -10  -8  -6  -4  -2 -10  -8  -6  -4  -2 -10  -8  -6  -4  -2\n"
          ]
        }
      ]
    },
    {
      "cell_type": "code",
      "metadata": {
        "colab": {
          "base_uri": "https://localhost:8080/"
        },
        "id": "g_-kVn007lc8",
        "outputId": "6c1bfdde-f33c-4e41-8975-f964e5cacbe0"
      },
      "source": [
        "e <- rep(c, each=3) # repeats each element of x three times before moving on to the next\n",
        "print(e)"
      ],
      "execution_count": 66,
      "outputs": [
        {
          "output_type": "stream",
          "name": "stdout",
          "text": [
            " [1] -10 -10 -10  -8  -8  -8  -6  -6  -6  -4  -4  -4  -2  -2  -2\n"
          ]
        }
      ]
    },
    {
      "cell_type": "markdown",
      "metadata": {
        "id": "Z79q8XWq79dG"
      },
      "source": [
        "**Logical Vectors**"
      ]
    },
    {
      "cell_type": "code",
      "metadata": {
        "colab": {
          "base_uri": "https://localhost:8080/"
        },
        "id": "EqaKYE1AFv9c",
        "outputId": "aec59406-75ca-45b3-8744-ef5ea6ef07a1"
      },
      "source": [
        "temp <- b > 0\n",
        "print(b)\n",
        "print(temp)"
      ],
      "execution_count": 67,
      "outputs": [
        {
          "output_type": "stream",
          "name": "stdout",
          "text": [
            " [1] -10  -8  -6  -4  -2   0   2   4   6   8  10\n",
            " [1] FALSE FALSE FALSE FALSE FALSE FALSE  TRUE  TRUE  TRUE  TRUE  TRUE\n"
          ]
        }
      ]
    },
    {
      "cell_type": "markdown",
      "metadata": {
        "id": "5OMqBl18i26-"
      },
      "source": [
        "Other logic operators:\n",
        "\n",
        "- `<`, `<=`, `>`, `>=`, `==` for exact equality and `!=` for inequality.\n",
        "- if `c1` and `c2` are logical expressions,\n",
        "  - then `c1 & c2` is their intersection (“and”),\n",
        "  - `c1 | c2` is their union (“or”),\n",
        "  - and `!c1` is the negation of `c1`\n"
      ]
    },
    {
      "cell_type": "markdown",
      "metadata": {
        "id": "F2NT4Kztk2pz"
      },
      "source": [
        "**Missing Values**"
      ]
    },
    {
      "cell_type": "markdown",
      "metadata": {
        "id": "nsb63kusmQYC"
      },
      "source": [
        "In general any operation on an `NA` becomes an `NA`. The motivation for this rule is simply that if the specification of an operation is incomplete, the result cannot be known and hence is *not available*."
      ]
    },
    {
      "cell_type": "code",
      "metadata": {
        "id": "oLB4GRDikAhf",
        "colab": {
          "base_uri": "https://localhost:8080/"
        },
        "outputId": "d9e2da85-3cbc-4d7f-dcc6-37148ac9bf1f"
      },
      "source": [
        "z <- c(1:3,NA)\n",
        "print(z)\n",
        "help(NA)"
      ],
      "execution_count": 12,
      "outputs": [
        {
          "output_type": "stream",
          "name": "stdout",
          "text": [
            "[1]  1  2  3 NA\n"
          ]
        }
      ]
    },
    {
      "cell_type": "code",
      "metadata": {
        "colab": {
          "base_uri": "https://localhost:8080/",
          "height": 35
        },
        "id": "8ErfdcYHk6XW",
        "outputId": "12f3e635-376c-4caf-eb24-a30171426e43"
      },
      "source": [
        "ind <- is.na(z) # Compares each element with NA\n",
        "ind"
      ],
      "execution_count": 7,
      "outputs": [
        {
          "output_type": "display_data",
          "data": {
            "text/html": [
              "<style>\n",
              ".list-inline {list-style: none; margin:0; padding: 0}\n",
              ".list-inline>li {display: inline-block}\n",
              ".list-inline>li:not(:last-child)::after {content: \"\\00b7\"; padding: 0 .5ex}\n",
              "</style>\n",
              "<ol class=list-inline><li>FALSE</li><li>FALSE</li><li>FALSE</li><li>TRUE</li></ol>\n"
            ],
            "text/markdown": "1. FALSE\n2. FALSE\n3. FALSE\n4. TRUE\n\n\n",
            "text/latex": "\\begin{enumerate*}\n\\item FALSE\n\\item FALSE\n\\item FALSE\n\\item TRUE\n\\end{enumerate*}\n",
            "text/plain": [
              "[1] FALSE FALSE FALSE  TRUE"
            ]
          },
          "metadata": {}
        }
      ]
    },
    {
      "cell_type": "markdown",
      "metadata": {
        "id": "eVKzhxgMllPa"
      },
      "source": [
        "**Non-a-Number**"
      ]
    },
    {
      "cell_type": "code",
      "metadata": {
        "colab": {
          "base_uri": "https://localhost:8080/",
          "height": 34
        },
        "id": "FKuf_ivulo0h",
        "outputId": "27822533-9953-4600-bbb9-9037f116fe99"
      },
      "source": [
        "0/0"
      ],
      "execution_count": 10,
      "outputs": [
        {
          "output_type": "display_data",
          "data": {
            "text/html": [
              "NaN"
            ],
            "text/markdown": "NaN",
            "text/latex": "NaN",
            "text/plain": [
              "[1] NaN"
            ]
          },
          "metadata": {}
        }
      ]
    },
    {
      "cell_type": "code",
      "metadata": {
        "colab": {
          "base_uri": "https://localhost:8080/",
          "height": 34
        },
        "id": "iKO1Yawolpvn",
        "outputId": "c8d51089-ca97-46b2-b4f4-023f97549ebb"
      },
      "source": [
        "Inf - Inf\n",
        "help(Inf)"
      ],
      "execution_count": 11,
      "outputs": [
        {
          "output_type": "display_data",
          "data": {
            "text/html": [
              "NaN"
            ],
            "text/markdown": "NaN",
            "text/latex": "NaN",
            "text/plain": [
              "[1] NaN"
            ]
          },
          "metadata": {}
        }
      ]
    },
    {
      "cell_type": "code",
      "metadata": {
        "colab": {
          "base_uri": "https://localhost:8080/",
          "height": 52
        },
        "id": "V4AwjX9Al1lZ",
        "outputId": "7091dfb7-3a8a-4601-958f-f96ae14f51be"
      },
      "source": [
        "is.na(NA); is.na(NaN)"
      ],
      "execution_count": 73,
      "outputs": [
        {
          "output_type": "display_data",
          "data": {
            "text/html": [
              "TRUE"
            ],
            "text/markdown": "TRUE",
            "text/latex": "TRUE",
            "text/plain": [
              "[1] TRUE"
            ]
          },
          "metadata": {}
        },
        {
          "output_type": "display_data",
          "data": {
            "text/html": [
              "TRUE"
            ],
            "text/markdown": "TRUE",
            "text/latex": "TRUE",
            "text/plain": [
              "[1] TRUE"
            ]
          },
          "metadata": {}
        }
      ]
    },
    {
      "cell_type": "code",
      "metadata": {
        "colab": {
          "base_uri": "https://localhost:8080/",
          "height": 52
        },
        "id": "0iOF5terl3nW",
        "outputId": "3c4cc15e-5f49-4130-a452-c58bb0a0b06a"
      },
      "source": [
        "is.nan(NA); is.nan(NaN)"
      ],
      "execution_count": 74,
      "outputs": [
        {
          "output_type": "display_data",
          "data": {
            "text/html": [
              "FALSE"
            ],
            "text/markdown": "FALSE",
            "text/latex": "FALSE",
            "text/plain": [
              "[1] FALSE"
            ]
          },
          "metadata": {}
        },
        {
          "output_type": "display_data",
          "data": {
            "text/html": [
              "TRUE"
            ],
            "text/markdown": "TRUE",
            "text/latex": "TRUE",
            "text/plain": [
              "[1] TRUE"
            ]
          },
          "metadata": {}
        }
      ]
    },
    {
      "cell_type": "markdown",
      "metadata": {
        "id": "7vgaFv6Zf2tj"
      },
      "source": [
        "## Task 4: Create a Vector with Multiple Types"
      ]
    },
    {
      "cell_type": "markdown",
      "metadata": {
        "id": "GtMqVJ7luLzG"
      },
      "source": [
        "Create a vector with multiple types, such as the values below, and check their data type.\n",
        "\n",
        "> 42, 'John Doe', TRUE"
      ]
    },
    {
      "cell_type": "code",
      "metadata": {
        "id": "In1Dls54F0oG",
        "colab": {
          "base_uri": "https://localhost:8080/",
          "height": 52
        },
        "outputId": "0a83cc58-bde5-40e0-96f9-740b6dfcbe1e"
      },
      "source": [
        "ls()\n",
        "f <- c(42,\"John Doe\",TRUE)\n",
        "# Your code goes here...\n",
        "print(f)\n",
        "# Print the Vector with the information above."
      ],
      "execution_count": 42,
      "outputs": [
        {
          "output_type": "display_data",
          "data": {
            "text/html": [
              "<style>\n",
              ".list-inline {list-style: none; margin:0; padding: 0}\n",
              ".list-inline>li {display: inline-block}\n",
              ".list-inline>li:not(:last-child)::after {content: \"\\00b7\"; padding: 0 .5ex}\n",
              "</style>\n",
              "<ol class=list-inline><li>'c'</li><li>'concat'</li><li>'f'</li><li>'fruit'</li><li>'g'</li><li>'ind'</li><li>'lunch'</li><li>'S'</li><li>'sigmoid'</li><li>'string1'</li><li>'string2'</li><li>'x'</li><li>'y'</li><li>'z'</li></ol>\n"
            ],
            "text/markdown": "1. 'c'\n2. 'concat'\n3. 'f'\n4. 'fruit'\n5. 'g'\n6. 'ind'\n7. 'lunch'\n8. 'S'\n9. 'sigmoid'\n10. 'string1'\n11. 'string2'\n12. 'x'\n13. 'y'\n14. 'z'\n\n\n",
            "text/latex": "\\begin{enumerate*}\n\\item 'c'\n\\item 'concat'\n\\item 'f'\n\\item 'fruit'\n\\item 'g'\n\\item 'ind'\n\\item 'lunch'\n\\item 'S'\n\\item 'sigmoid'\n\\item 'string1'\n\\item 'string2'\n\\item 'x'\n\\item 'y'\n\\item 'z'\n\\end{enumerate*}\n",
            "text/plain": [
              " [1] \"c\"       \"concat\"  \"f\"       \"fruit\"   \"g\"       \"ind\"     \"lunch\"  \n",
              " [8] \"S\"       \"sigmoid\" \"string1\" \"string2\" \"x\"       \"y\"       \"z\"      "
            ]
          },
          "metadata": {}
        },
        {
          "output_type": "stream",
          "name": "stdout",
          "text": [
            "[1] \"42\"       \"John Doe\" \"TRUE\"    \n"
          ]
        }
      ]
    },
    {
      "cell_type": "markdown",
      "metadata": {
        "id": "51Kuar95wn4C"
      },
      "source": [
        "**Question**\n",
        "\n",
        "What can you notice about each vector element?"
      ]
    },
    {
      "cell_type": "code",
      "metadata": {
        "id": "G9jBgmNywgRS",
        "colab": {
          "base_uri": "https://localhost:8080/",
          "height": 34
        },
        "outputId": "f290a21e-4204-4b8d-b6e3-b74c17d15506"
      },
      "source": [
        "typeof(f) # Check the type of the vector above"
      ],
      "execution_count": 24,
      "outputs": [
        {
          "output_type": "display_data",
          "data": {
            "text/html": [
              "'character'"
            ],
            "text/markdown": "'character'",
            "text/latex": "'character'",
            "text/plain": [
              "[1] \"character\""
            ]
          },
          "metadata": {}
        }
      ]
    },
    {
      "cell_type": "markdown",
      "metadata": {
        "id": "Yud6kxOo0mQR"
      },
      "source": [
        "## Concatenation"
      ]
    },
    {
      "cell_type": "markdown",
      "metadata": {
        "id": "CXzeW1Po06pP"
      },
      "source": [
        "**Concatenate two strings**"
      ]
    },
    {
      "cell_type": "code",
      "metadata": {
        "id": "tlDK1MVw0pMX"
      },
      "source": [
        "# create 2 different strings.\n",
        "string1 <- \"String1\" # first string\n",
        "string2 <- \"String2\" # second string."
      ],
      "execution_count": 26,
      "outputs": []
    },
    {
      "cell_type": "code",
      "metadata": {
        "colab": {
          "base_uri": "https://localhost:8080/",
          "height": 70
        },
        "id": "xyTjfG0rzpZl",
        "outputId": "be091489-5bf1-4686-c746-453ab887218f"
      },
      "source": [
        "concat <- c(string1, string2)\n",
        "print(concat)\n",
        "typeof(concat)\n",
        "class(concat)"
      ],
      "execution_count": 27,
      "outputs": [
        {
          "output_type": "stream",
          "name": "stdout",
          "text": [
            "[1] \"String1\" \"String2\"\n"
          ]
        },
        {
          "output_type": "display_data",
          "data": {
            "text/html": [
              "'character'"
            ],
            "text/markdown": "'character'",
            "text/latex": "'character'",
            "text/plain": [
              "[1] \"character\""
            ]
          },
          "metadata": {}
        },
        {
          "output_type": "display_data",
          "data": {
            "text/html": [
              "'character'"
            ],
            "text/markdown": "'character'",
            "text/latex": "'character'",
            "text/plain": [
              "[1] \"character\""
            ]
          },
          "metadata": {}
        }
      ]
    },
    {
      "cell_type": "markdown",
      "metadata": {
        "id": "BtX45Gih19le"
      },
      "source": [
        "**The `paste` function**\n",
        "\n",
        "- Takes an arbitrary number of arguments and concatenates them one by one into character strings.\n",
        "- Any numbers given among the arguments are coerced into character strings\n",
        "- Arguments are by default separated in the result by a single blank character\n"
      ]
    },
    {
      "cell_type": "code",
      "metadata": {
        "colab": {
          "base_uri": "https://localhost:8080/",
          "height": 70
        },
        "id": "Wia5LRs50-0p",
        "outputId": "5336a62c-c875-47f5-bfd7-1ec302b0a91d"
      },
      "source": [
        "# Using paste() function to perform string concatenation.\n",
        "S <- paste(string1, string2)\n",
        "print(S)# print the output string\n",
        "typeof(S)\n",
        "class(S)"
      ],
      "execution_count": 28,
      "outputs": [
        {
          "output_type": "stream",
          "name": "stdout",
          "text": [
            "[1] \"String1 String2\"\n"
          ]
        },
        {
          "output_type": "display_data",
          "data": {
            "text/html": [
              "'character'"
            ],
            "text/markdown": "'character'",
            "text/latex": "'character'",
            "text/plain": [
              "[1] \"character\""
            ]
          },
          "metadata": {}
        },
        {
          "output_type": "display_data",
          "data": {
            "text/html": [
              "'character'"
            ],
            "text/markdown": "'character'",
            "text/latex": "'character'",
            "text/plain": [
              "[1] \"character\""
            ]
          },
          "metadata": {}
        }
      ]
    },
    {
      "cell_type": "code",
      "metadata": {
        "colab": {
          "base_uri": "https://localhost:8080/"
        },
        "id": "M1hzVKdE2SsC",
        "outputId": "7a22aa23-6ce1-4ee0-946e-74ec37ccf357"
      },
      "source": [
        "S <- paste(string1, string2, sep =\"\")\n",
        "print(S)# print the output string"
      ],
      "execution_count": 29,
      "outputs": [
        {
          "output_type": "stream",
          "name": "stdout",
          "text": [
            "[1] \"String1String2\"\n"
          ]
        }
      ]
    },
    {
      "cell_type": "code",
      "metadata": {
        "colab": {
          "base_uri": "https://localhost:8080/"
        },
        "id": "mNlP1raE2f_I",
        "outputId": "3e6c69f8-243a-4bdf-abbc-23da082b26f6"
      },
      "source": [
        "S <- paste(string1, string2, sep =\"#\")\n",
        "print(S)# print the output string"
      ],
      "execution_count": 30,
      "outputs": [
        {
          "output_type": "stream",
          "name": "stdout",
          "text": [
            "[1] \"String1#String2\"\n"
          ]
        }
      ]
    },
    {
      "cell_type": "markdown",
      "metadata": {
        "id": "BHJkDze957qZ"
      },
      "source": [
        "## Indexing, Selecting and Modifying Subsets of Data"
      ]
    },
    {
      "cell_type": "markdown",
      "metadata": {
        "id": "1giCOANb6K8u"
      },
      "source": [
        "### Logical Vector"
      ]
    },
    {
      "cell_type": "code",
      "metadata": {
        "colab": {
          "base_uri": "https://localhost:8080/"
        },
        "id": "N62X5NAN6PbB",
        "outputId": "219eec5c-b645-40ea-ba93-a0513b95621b"
      },
      "source": [
        "x <- c(1:10, NA, NA, NA, 14:20)\n",
        "print(x)"
      ],
      "execution_count": 32,
      "outputs": [
        {
          "output_type": "stream",
          "name": "stdout",
          "text": [
            " [1]  1  2  3  4  5  6  7  8  9 10 NA NA NA 14 15 16 17 18 19 20\n"
          ]
        }
      ]
    },
    {
      "cell_type": "code",
      "metadata": {
        "colab": {
          "base_uri": "https://localhost:8080/"
        },
        "id": "GnUJILZS6B-I",
        "outputId": "eb8774ff-3a4e-4215-e130-f2938a74e53d"
      },
      "source": [
        "y <- x[!is.na(x)]\n",
        "print(y)"
      ],
      "execution_count": 33,
      "outputs": [
        {
          "output_type": "stream",
          "name": "stdout",
          "text": [
            " [1]  1  2  3  4  5  6  7  8  9 10 14 15 16 17 18 19 20\n"
          ]
        }
      ]
    },
    {
      "cell_type": "code",
      "metadata": {
        "colab": {
          "base_uri": "https://localhost:8080/"
        },
        "id": "rHQjGPmy6vCq",
        "outputId": "204a5f05-8487-4ef7-8bea-ee5632473eb3"
      },
      "source": [
        "# Creates an object Z and places in it values of x*2\n",
        "(x*2)[(!is.na(x)) & x>=10] -> z\n",
        "print(z)"
      ],
      "execution_count": 34,
      "outputs": [
        {
          "output_type": "stream",
          "name": "stdout",
          "text": [
            "[1] 20 28 30 32 34 36 38 40\n"
          ]
        }
      ]
    },
    {
      "cell_type": "markdown",
      "metadata": {
        "id": "dSoOrCmy7O2l"
      },
      "source": [
        "### Positive Integer Number"
      ]
    },
    {
      "cell_type": "code",
      "metadata": {
        "colab": {
          "base_uri": "https://localhost:8080/"
        },
        "id": "d-Lj9ZVd7T6P",
        "outputId": "15301fe6-b72f-4dbe-863b-2deac2c9ad06"
      },
      "source": [
        "x <- c('A', 'B', 'C', 'D', 'E', 'F')\n",
        "print(x[2:5])"
      ],
      "execution_count": 35,
      "outputs": [
        {
          "output_type": "stream",
          "name": "stdout",
          "text": [
            "[1] \"B\" \"C\" \"D\" \"E\"\n"
          ]
        }
      ]
    },
    {
      "cell_type": "code",
      "metadata": {
        "colab": {
          "base_uri": "https://localhost:8080/"
        },
        "id": "rxibUmCa7fmD",
        "outputId": "db109660-7983-4330-bb40-1893a642d58a"
      },
      "source": [
        "print(x[1:length(x)])"
      ],
      "execution_count": 36,
      "outputs": [
        {
          "output_type": "stream",
          "name": "stdout",
          "text": [
            "[1] \"A\" \"B\" \"C\" \"D\" \"E\" \"F\"\n"
          ]
        }
      ]
    },
    {
      "cell_type": "code",
      "metadata": {
        "colab": {
          "base_uri": "https://localhost:8080/"
        },
        "id": "dmNMyuOz7srf",
        "outputId": "8dae63b7-13e6-461d-ce06-092755cfa97d"
      },
      "source": [
        "# Repeating some particular repeated selection\n",
        "print(x[rep(c(1,2,2,1), times=4)])"
      ],
      "execution_count": 37,
      "outputs": [
        {
          "output_type": "stream",
          "name": "stdout",
          "text": [
            " [1] \"A\" \"B\" \"B\" \"A\" \"A\" \"B\" \"B\" \"A\" \"A\" \"B\" \"B\" \"A\" \"A\" \"B\" \"B\" \"A\"\n"
          ]
        }
      ]
    },
    {
      "cell_type": "markdown",
      "metadata": {
        "id": "WmJLhnVM85RQ"
      },
      "source": [
        "### A vector of negative integral quantities"
      ]
    },
    {
      "cell_type": "markdown",
      "metadata": {
        "id": "h7nTMwuY9DdQ"
      },
      "source": [
        "Such an index vector specifies the values to be excluded rather than included."
      ]
    },
    {
      "cell_type": "code",
      "metadata": {
        "colab": {
          "base_uri": "https://localhost:8080/"
        },
        "id": "FUq5uUd17q_0",
        "outputId": "97ccaf64-3229-4fcd-fb12-77c40ab98819"
      },
      "source": [
        "y <- x[-(2:5)]\n",
        "z <- x[2:5]\n",
        "print(x)\n",
        "print(y)\n",
        "print(z)"
      ],
      "execution_count": 38,
      "outputs": [
        {
          "output_type": "stream",
          "name": "stdout",
          "text": [
            "[1] \"A\" \"B\" \"C\" \"D\" \"E\" \"F\"\n",
            "[1] \"A\" \"F\"\n",
            "[1] \"B\" \"C\" \"D\" \"E\"\n"
          ]
        }
      ]
    },
    {
      "cell_type": "markdown",
      "metadata": {
        "id": "dqeH8ls99TxF"
      },
      "source": [
        "### A vector of character strings"
      ]
    },
    {
      "cell_type": "markdown",
      "metadata": {
        "id": "d4YMrPrA9X9n"
      },
      "source": [
        "This possibility only applies where an object has a names attribute to identify its components."
      ]
    },
    {
      "cell_type": "code",
      "metadata": {
        "colab": {
          "base_uri": "https://localhost:8080/"
        },
        "id": "q92fV4cE9WfV",
        "outputId": "402463dc-0528-4a09-c2d4-3c7379771f3a"
      },
      "source": [
        "fruit <- c(5, 10, 1, 20)\n",
        "print(fruit)"
      ],
      "execution_count": 39,
      "outputs": [
        {
          "output_type": "stream",
          "name": "stdout",
          "text": [
            "[1]  5 10  1 20\n"
          ]
        }
      ]
    },
    {
      "cell_type": "code",
      "metadata": {
        "colab": {
          "base_uri": "https://localhost:8080/"
        },
        "id": "cvLR9fnE9oqe",
        "outputId": "e815fc4d-eefe-4af5-a6c6-2375ff9377c4"
      },
      "source": [
        "names(fruit) <- c(\"orange\", \"banana\", \"apple\", \"peach\")\n",
        "print(fruit)"
      ],
      "execution_count": 40,
      "outputs": [
        {
          "output_type": "stream",
          "name": "stdout",
          "text": [
            "orange banana  apple  peach \n",
            "     5     10      1     20 \n"
          ]
        }
      ]
    },
    {
      "cell_type": "markdown",
      "metadata": {
        "id": "fVgoqWVT9wj7"
      },
      "source": [
        "In this case a sub-vector of the names vector may be used in the same way as the positive integral labels."
      ]
    },
    {
      "cell_type": "code",
      "metadata": {
        "id": "MFm03Yrz9p79",
        "colab": {
          "base_uri": "https://localhost:8080/"
        },
        "outputId": "3bb95218-a874-4d9a-d5cf-b785069b34b1"
      },
      "source": [
        "lunch <- fruit[c(\"apple\",\"orange\")]\n",
        "print(lunch)"
      ],
      "execution_count": 41,
      "outputs": [
        {
          "output_type": "stream",
          "name": "stdout",
          "text": [
            " apple orange \n",
            "     1      5 \n"
          ]
        }
      ]
    },
    {
      "cell_type": "markdown",
      "metadata": {
        "id": "E3XhLyM7-F-J"
      },
      "source": [
        "## Task5: Replacing Missing Values"
      ]
    },
    {
      "cell_type": "markdown",
      "metadata": {
        "id": "PEoOaiUx-mFm"
      },
      "source": [
        "**Part A**"
      ]
    },
    {
      "cell_type": "code",
      "metadata": {
        "colab": {
          "base_uri": "https://localhost:8080/"
        },
        "id": "wRqflZ_V-LOZ",
        "outputId": "35f46845-4922-4015-e75b-6939312316e6"
      },
      "source": [
        "# Given\n",
        "x <- c(1:10, NA, NA, NA, 14:20)\n",
        "print(x)"
      ],
      "execution_count": 52,
      "outputs": [
        {
          "output_type": "stream",
          "name": "stdout",
          "text": [
            " [1]  1  2  3  4  5  6  7  8  9 10 NA NA NA 14 15 16 17 18 19 20\n"
          ]
        }
      ]
    },
    {
      "cell_type": "markdown",
      "metadata": {
        "id": "RqfBppCU-jAI"
      },
      "source": [
        "Let's replace the missing values with zeros"
      ]
    },
    {
      "cell_type": "code",
      "source": [
        "x[is.na(x)] <- 0\n",
        "print(x)"
      ],
      "metadata": {
        "id": "ciF_EOnFKGtY",
        "colab": {
          "base_uri": "https://localhost:8080/"
        },
        "outputId": "912fb901-a1d2-4855-8d8f-ce34dc481b8d"
      },
      "execution_count": 53,
      "outputs": [
        {
          "output_type": "stream",
          "name": "stdout",
          "text": [
            " [1]  1  2  3  4  5  6  7  8  9 10  0  0  0 14 15 16 17 18 19 20\n"
          ]
        }
      ]
    },
    {
      "cell_type": "markdown",
      "metadata": {
        "id": "3mGpsClr-vd0"
      },
      "source": [
        "**Part B**"
      ]
    },
    {
      "cell_type": "code",
      "metadata": {
        "colab": {
          "base_uri": "https://localhost:8080/"
        },
        "id": "naJSP_-D-6lE",
        "outputId": "2420b772-0b6b-47db-d43d-8fc9474db934"
      },
      "source": [
        "# Given\n",
        "y <- -10:10\n",
        "print(y)"
      ],
      "execution_count": 61,
      "outputs": [
        {
          "output_type": "stream",
          "name": "stdout",
          "text": [
            " [1] -10  -9  -8  -7  -6  -5  -4  -3  -2  -1   0   1   2   3   4   5   6   7   8\n",
            "[20]   9  10\n"
          ]
        }
      ]
    },
    {
      "cell_type": "markdown",
      "metadata": {
        "id": "4N_Qlaiu_PfZ"
      },
      "source": [
        "Let's replace the negative values, say `n`, by `-n`.\n",
        "You have to use selection and assingment. Though, it should have the same effect of the `abs` function, you can not use it."
      ]
    },
    {
      "cell_type": "code",
      "metadata": {
        "colab": {
          "base_uri": "https://localhost:8080/"
        },
        "id": "wzce8fbg_IWY",
        "outputId": "f0538f8a-1293-4316-c84e-ffbbb1344d18"
      },
      "source": [
        "y[y < 0] <- -y[y < 0] #Enter your code here\n",
        "print(y)"
      ],
      "execution_count": 62,
      "outputs": [
        {
          "output_type": "stream",
          "name": "stdout",
          "text": [
            " [1] 10  9  8  7  6  5  4  3  2  1  0  1  2  3  4  5  6  7  8  9 10\n"
          ]
        }
      ]
    },
    {
      "cell_type": "markdown",
      "metadata": {
        "id": "w-XV8LHAw-Wq"
      },
      "source": [
        "## Lists"
      ]
    },
    {
      "cell_type": "markdown",
      "metadata": {
        "id": "32beyEZbxYmK"
      },
      "source": [
        "Lists can contain many different types of elements"
      ]
    },
    {
      "cell_type": "code",
      "metadata": {
        "colab": {
          "base_uri": "https://localhost:8080/"
        },
        "id": "yVueu9Dzw_yC",
        "outputId": "d03875ec-d25c-433f-b045-a45a37a0a783"
      },
      "source": [
        "l <- list(42, 'John Doe', T)\n",
        "print(l)"
      ],
      "execution_count": 63,
      "outputs": [
        {
          "output_type": "stream",
          "name": "stdout",
          "text": [
            "[[1]]\n",
            "[1] 42\n",
            "\n",
            "[[2]]\n",
            "[1] \"John Doe\"\n",
            "\n",
            "[[3]]\n",
            "[1] TRUE\n",
            "\n"
          ]
        }
      ]
    },
    {
      "cell_type": "code",
      "metadata": {
        "colab": {
          "base_uri": "https://localhost:8080/",
          "height": 52
        },
        "id": "FPGpvVrWxK46",
        "outputId": "ad9f9641-5784-4dcd-bb7c-a232f797847f"
      },
      "source": [
        "class(l)\n",
        "typeof(l)"
      ],
      "execution_count": 64,
      "outputs": [
        {
          "output_type": "display_data",
          "data": {
            "text/html": [
              "'list'"
            ],
            "text/markdown": "'list'",
            "text/latex": "'list'",
            "text/plain": [
              "[1] \"list\""
            ]
          },
          "metadata": {}
        },
        {
          "output_type": "display_data",
          "data": {
            "text/html": [
              "'list'"
            ],
            "text/markdown": "'list'",
            "text/latex": "'list'",
            "text/plain": [
              "[1] \"list\""
            ]
          },
          "metadata": {}
        }
      ]
    },
    {
      "cell_type": "markdown",
      "metadata": {
        "id": "UGpulsQRxm57"
      },
      "source": [
        "## Matrices"
      ]
    },
    {
      "cell_type": "markdown",
      "metadata": {
        "id": "jGh9S_bcxtH6"
      },
      "source": [
        "Matrices can be build from a vector by defining the number of `rows` and `cols`"
      ]
    },
    {
      "cell_type": "code",
      "metadata": {
        "colab": {
          "base_uri": "https://localhost:8080/"
        },
        "id": "IWE4ygQHxjgx",
        "outputId": "9cfe0eaa-e2d3-4dcd-9a5f-d6c65a1c0163"
      },
      "source": [
        "M <- matrix(c('a','b','c','d','e','f'), nrow=2, ncol=3, byrow=TRUE)\n",
        "print(M)"
      ],
      "execution_count": 65,
      "outputs": [
        {
          "output_type": "stream",
          "name": "stdout",
          "text": [
            "     [,1] [,2] [,3]\n",
            "[1,] \"a\"  \"b\"  \"c\" \n",
            "[2,] \"d\"  \"e\"  \"f\" \n"
          ]
        }
      ]
    },
    {
      "cell_type": "markdown",
      "metadata": {
        "id": "btHFTx8IyCKl"
      },
      "source": [
        "**Accessing Values in Matrices**"
      ]
    },
    {
      "cell_type": "code",
      "metadata": {
        "colab": {
          "base_uri": "https://localhost:8080/"
        },
        "id": "Ut-3gUNxx5UY",
        "outputId": "a4e5c0ce-7130-4606-e8d1-ce8097ef3ba6"
      },
      "source": [
        "print(M[2, 3]) # Returns 'f'"
      ],
      "execution_count": 66,
      "outputs": [
        {
          "output_type": "stream",
          "name": "stdout",
          "text": [
            "[1] \"f\"\n"
          ]
        }
      ]
    },
    {
      "cell_type": "code",
      "metadata": {
        "colab": {
          "base_uri": "https://localhost:8080/"
        },
        "id": "XyatPZZ7yLXy",
        "outputId": "3410d1f8-02e0-4e00-f817-d009ff238095"
      },
      "source": [
        "print(M[1])"
      ],
      "execution_count": 67,
      "outputs": [
        {
          "output_type": "stream",
          "name": "stdout",
          "text": [
            "[1] \"a\"\n"
          ]
        }
      ]
    }
  ]
}