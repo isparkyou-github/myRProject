{
  "nbformat": 4,
  "nbformat_minor": 0,
  "metadata": {
    "colab": {
      "provenance": []
    },
    "kernelspec": {
      "name": "ir",
      "display_name": "R"
    },
    "language_info": {
      "name": "R"
    }
  },
  "cells": [
    {
      "cell_type": "markdown",
      "source": [
        "# Purpose of Lab 1: To touch on the basics of R programming\n",
        "\n",
        "# Content\n",
        "1.   Preliminaries\n",
        "*   Print function, help function, Example function\n",
        "2.   Language Basic Syntax\n",
        "* Hellp world, comments and object assignment\n",
        "* Listing and removing objects\n",
        "* Showing all objects\n",
        "* Construct a function\n",
        "3.   Simple Manipulation, numbers and vectors\n",
        "* Basic Arithmetics\n",
        "* Data types\n",
        "* Vectors\n",
        "* Concatenation\n",
        "* Indexing, Selecting and modifying subsets of data\n",
        "* Replace missing values\n",
        "* Lists\n",
        "* Matrices\n",
        "\n",
        "\n",
        "\n",
        "\n"
      ],
      "metadata": {
        "id": "xzkBp57C0kP2"
      }
    },
    {
      "cell_type": "markdown",
      "metadata": {
        "id": "aiV6tIjbaoA-"
      },
      "source": [
        "# Preliminaries"
      ]
    },
    {
      "cell_type": "markdown",
      "metadata": {
        "id": "panLYKhHSDYn"
      },
      "source": [
        "**The Print Function**"
      ]
    },
    {
      "cell_type": "code",
      "metadata": {
        "colab": {
          "base_uri": "https://localhost:8080/"
        },
        "id": "J-VORRNFR7eX",
        "outputId": "e21369a7-5115-42a7-cb18-efc9eb29fc62"
      },
      "source": [
        "print('Hello')"
      ],
      "execution_count": null,
      "outputs": [
        {
          "output_type": "stream",
          "name": "stdout",
          "text": [
            "[1] \"Hello\"\n"
          ]
        }
      ]
    },
    {
      "cell_type": "markdown",
      "metadata": {
        "id": "_cmlr9SeSgf5"
      },
      "source": [
        "**The Help Function**"
      ]
    },
    {
      "cell_type": "code",
      "metadata": {
        "id": "0hHVx_YUR9xW"
      },
      "source": [
        "help(print) # or ?print"
      ],
      "execution_count": null,
      "outputs": []
    },
    {
      "cell_type": "markdown",
      "metadata": {
        "id": "iPhHxe0VSrMY"
      },
      "source": [
        "**The Example Function**"
      ]
    },
    {
      "cell_type": "code",
      "metadata": {
        "colab": {
          "base_uri": "https://localhost:8080/"
        },
        "id": "iI_0rBUBSK40",
        "outputId": "50e96d97-1a9a-40a9-b05a-11214e79874a"
      },
      "source": [
        "example(print)"
      ],
      "execution_count": null,
      "outputs": [
        {
          "output_type": "stream",
          "name": "stdout",
          "text": [
            "\n",
            "print> require(stats)\n",
            "\n",
            "print> ts(1:20)  #-- print is the \"Default function\" --> print.ts(.) is called\n",
            "Time Series:\n",
            "Start = 1 \n",
            "End = 20 \n",
            "Frequency = 1 \n",
            " [1]  1  2  3  4  5  6  7  8  9 10 11 12 13 14 15 16 17 18 19 20\n",
            "\n",
            "print> for(i in 1:3) print(1:i)\n",
            "[1] 1\n",
            "[1] 1 2\n",
            "[1] 1 2 3\n",
            "\n",
            "print> ## Printing of factors\n",
            "print> attenu$station ## 117 levels -> 'max.levels' depending on width\n",
            "  [1] 117  1083 1095 283  135  475  113  1008 1028 2001 117  1117 1438 1083 1013\n",
            " [16] 1014 1015 1016 1095 1011 1028 270  280  116  266  117  113  112  130  475 \n",
            " [31] 269  135  1093 1093 111  116  290  112  113  128  126  127  141  266  110 \n",
            " [46] 1027 111  125  135  475  262  269  1052 411  290  130  272  1096 1102 112 \n",
            " [61] 113  1028 2714 2708 2715 3501 655  272  1032 1377 1028 1250 1051 1293 1291\n",
            " [76] 1292 283  885  <NA> 2734 <NA> 2728 1413 1445 1408 1411 1410 1409 1377 1492\n",
            " [91] 1251 1422 1376 <NA> 286  <NA> 5028 942  <NA> 5054 958  952  5165 117  955 \n",
            "[106] 5055 <NA> <NA> 5060 412  5053 5058 5057 <NA> 5051 <NA> 5115 <NA> 931  5056\n",
            "[121] 5059 5061 <NA> 5062 5052 <NA> 724  <NA> 5066 5050 2316 5055 942  5028 5165\n",
            "[136] 952  958  955  117  412  5053 5054 5058 5057 5115 5056 5060 1030 1418 1383\n",
            "[151] 1308 1298 1299 1219 <NA> <NA> 1030 1418 1383 <NA> 1299 1308 1219 1456 5045\n",
            "[166] 5044 5160 5043 5047 c168 5068 c118 5042 5067 5049 c204 5070 c266 c203 5069\n",
            "[181] 5073 5072\n",
            "117 Levels: 1008 1011 1013 1014 1015 1016 1027 1028 1030 1032 1051 1052 ... c266\n",
            "\n",
            "print> ## ordered factors: levels  \"l1 < l2 < ..\"\n",
            "print> esoph$agegp[1:12]\n",
            " [1] 25-34 25-34 25-34 25-34 25-34 25-34 25-34 25-34 25-34 25-34 25-34 25-34\n",
            "Levels: 25-34 < 35-44 < 45-54 < 55-64 < 65-74 < 75+\n",
            "\n",
            "print> esoph$alcgp[1:12]\n",
            " [1] 0-39g/day 0-39g/day 0-39g/day 0-39g/day 40-79     40-79     40-79    \n",
            " [8] 40-79     80-119    80-119    80-119    120+     \n",
            "Levels: 0-39g/day < 40-79 < 80-119 < 120+\n",
            "\n",
            "print> ## Printing of sparse (contingency) tables\n",
            "print> set.seed(521)\n",
            "\n",
            "print> t1 <- round(abs(rt(200, df = 1.8)))\n",
            "\n",
            "print> t2 <- round(abs(rt(200, df = 1.4)))\n",
            "\n",
            "print> table(t1, t2) # simple\n",
            "    t2\n",
            "t1    0  1  2  3  4  5  6  7  8 10 17 21 30\n",
            "  0  21 22 14  4  1  0  1  1  1  0  1  0  0\n",
            "  1  25 21  7  3  4  2  1  1  1  1  0  0  0\n",
            "  2   8 16  9  2  0  0  0  0  0  0  0  1  1\n",
            "  3   3  7  0  2  0  0  0  0  0  0  0  0  0\n",
            "  4   1  5  2  0  0  0  1  0  0  0  0  0  0\n",
            "  5   1  1  1  0  0  0  0  0  0  0  0  0  0\n",
            "  6   1  3  0  0  0  0  0  0  0  0  0  0  0\n",
            "  7   1  0  0  0  0  0  0  0  0  0  0  0  0\n",
            "  9   0  0  0  1  0  0  0  0  0  0  0  0  0\n",
            "  12  1  0  0  0  0  0  0  0  0  0  0  0  0\n",
            "\n",
            "print> print(table(t1, t2), zero.print = \".\") # nicer to read\n",
            "    t2\n",
            "t1    0  1  2  3  4  5  6  7  8 10 17 21 30\n",
            "  0  21 22 14  4  1  .  1  1  1  .  1  .  .\n",
            "  1  25 21  7  3  4  2  1  1  1  1  .  .  .\n",
            "  2   8 16  9  2  .  .  .  .  .  .  .  1  1\n",
            "  3   3  7  .  2  .  .  .  .  .  .  .  .  .\n",
            "  4   1  5  2  .  .  .  1  .  .  .  .  .  .\n",
            "  5   1  1  1  .  .  .  .  .  .  .  .  .  .\n",
            "  6   1  3  .  .  .  .  .  .  .  .  .  .  .\n",
            "  7   1  .  .  .  .  .  .  .  .  .  .  .  .\n",
            "  9   .  .  .  1  .  .  .  .  .  .  .  .  .\n",
            "  12  1  .  .  .  .  .  .  .  .  .  .  .  .\n",
            "\n",
            "print> ## same for non-integer \"table\":\n",
            "print> T <- table(t2,t1)\n",
            "\n",
            "print> T <- T * (1+round(rlnorm(length(T)))/4)\n",
            "\n",
            "print> print(T, zero.print = \".\") # quite nicer,\n",
            "    t1\n",
            "t2       0     1     2     3     4     5     6     7     9    12\n",
            "  0  26.25 25.00 10.00  3.75  1.50  1.25  1.25  1.00     .  2.00\n",
            "  1  22.00 26.25 16.00 10.50 27.50  1.25  3.00     .     .     .\n",
            "  2  21.00  7.00 13.50     .  3.00  1.25     .     .     .     .\n",
            "  3   5.00  3.75  2.50  2.50     .     .     .     .  1.50     .\n",
            "  4   1.25  5.00     .     .     .     .     .     .     .     .\n",
            "  5      .  2.00     .     .     .     .     .     .     .     .\n",
            "  6   1.25  1.50     .     .  1.25     .     .     .     .     .\n",
            "  7   1.25  1.25     .     .     .     .     .     .     .     .\n",
            "  8   1.50  1.00     .     .     .     .     .     .     .     .\n",
            "  10     .  1.00     .     .     .     .     .     .     .     .\n",
            "  17  1.00     .     .     .     .     .     .     .     .     .\n",
            "  21     .     .  2.75     .     .     .     .     .     .     .\n",
            "  30     .     .  5.00     .     .     .     .     .     .     .\n",
            "\n",
            "print> print.table(T[,2:8] * 1e9, digits=3, zero.print = \".\")\n",
            "    t1\n",
            "t2          1        2        3        4        5        6        7\n",
            "  0  2.50e+10 1.00e+10 3.75e+09 1.50e+09 1.25e+09 1.25e+09 1.00e+09\n",
            "  1  2.62e+10 1.60e+10 1.05e+10 2.75e+10 1.25e+09 3.00e+09        .\n",
            "  2  7.00e+09 1.35e+10        . 3.00e+09 1.25e+09        .        .\n",
            "  3  3.75e+09 2.50e+09 2.50e+09        .        .        .        .\n",
            "  4  5.00e+09        .        .        .        .        .        .\n",
            "  5  2.00e+09        .        .        .        .        .        .\n",
            "  6  1.50e+09        .        . 1.25e+09        .        .        .\n",
            "  7  1.25e+09        .        .        .        .        .        .\n",
            "  8  1.00e+09        .        .        .        .        .        .\n",
            "  10 1.00e+09        .        .        .        .        .        .\n",
            "  17        .        .        .        .        .        .        .\n",
            "  21        . 2.75e+09        .        .        .        .        .\n",
            "  30        . 5.00e+09        .        .        .        .        .\n",
            "\n",
            "print> ## still slightly inferior to  Matrix::Matrix(T)  for larger T\n",
            "print> \n",
            "print> ## Corner cases with empty extents:\n",
            "print> table(1, NA) # < table of extent 1 x 0 >\n",
            "< table of extent 1 x 0 >\n"
          ]
        }
      ]
    },
    {
      "cell_type": "markdown",
      "metadata": {
        "id": "y9fKwWBharUv"
      },
      "source": [
        "# Language Basic Syntax"
      ]
    },
    {
      "cell_type": "markdown",
      "metadata": {
        "id": "aBO--ueh0clB"
      },
      "source": [
        "## Hello World, Comments and Object Assignment"
      ]
    },
    {
      "cell_type": "code",
      "metadata": {
        "id": "U1Ty-lwMSOv0",
        "colab": {
          "base_uri": "https://localhost:8080/",
          "height": 88
        },
        "outputId": "2d37e1e3-7fc8-4061-a9a0-ed8db594963f"
      },
      "source": [
        "\"- R is case sensitive\n",
        "- Commands are separated by either ; or a new line\"\n",
        "# Comments can be done using '#', except inside strings.\n",
        "a = 'string 1'; A = 'string 2'; print(a); print(A)\n",
        "\"Sentences like these are evaluated, but they are not captured in any variable. Hence, their value is lost.\""
      ],
      "execution_count": null,
      "outputs": [
        {
          "output_type": "display_data",
          "data": {
            "text/html": [
              "'- R is case sensitive\\n- Commands are separated by either ; or a new line'"
            ],
            "text/markdown": "'- R is case sensitive\\n- Commands are separated by either ; or a new line'",
            "text/latex": "'- R is case sensitive\\textbackslash{}n- Commands are separated by either ; or a new line'",
            "text/plain": [
              "[1] \"- R is case sensitive\\n- Commands are separated by either ; or a new line\""
            ]
          },
          "metadata": {}
        },
        {
          "output_type": "stream",
          "name": "stdout",
          "text": [
            "[1] \"string 1\"\n",
            "[1] \"string 2\"\n"
          ]
        },
        {
          "output_type": "display_data",
          "data": {
            "text/html": [
              "'Sentences like these are evaluated, but they are not captured in any variable. Hence, their value is lost.'"
            ],
            "text/markdown": "'Sentences like these are evaluated, but they are not captured in any variable. Hence, their value is lost.'",
            "text/latex": "'Sentences like these are evaluated, but they are not captured in any variable. Hence, their value is lost.'",
            "text/plain": [
              "[1] \"Sentences like these are evaluated, but they are not captured in any variable. Hence, their value is lost.\""
            ]
          },
          "metadata": {}
        }
      ]
    },
    {
      "cell_type": "markdown",
      "metadata": {
        "id": "21gVSXXE36VZ"
      },
      "source": [
        "**Standard Way to do Assignment in R**"
      ]
    },
    {
      "cell_type": "markdown",
      "metadata": {
        "id": "TnBOaT0r4QVC"
      },
      "source": [
        "Though the `=` symbol can be used to assignment the value to an object, R has standardized `=` to be used with function arguments. Conventionally, objects can be assigned in one of the following ways."
      ]
    },
    {
      "cell_type": "code",
      "metadata": {
        "id": "HrwsISva4zjK"
      },
      "source": [
        "assign('b', 'new_object1')\n",
        "c <- 'new_object2'\n",
        "'new_object3' -> d\n",
        "e <- f <- g <- 'new_object4'"
      ],
      "execution_count": null,
      "outputs": []
    },
    {
      "cell_type": "markdown",
      "metadata": {
        "id": "YbOgogJP0kjd"
      },
      "source": [
        "## Listing and Removing Objects"
      ]
    },
    {
      "cell_type": "markdown",
      "metadata": {
        "id": "ur1OgyDi0plI"
      },
      "source": [
        "Both `ls` and `objects` commands can be used to list the objects of the current R session."
      ]
    },
    {
      "cell_type": "code",
      "metadata": {
        "colab": {
          "base_uri": "https://localhost:8080/",
          "height": 52
        },
        "id": "7feg0bt3zlcj",
        "outputId": "7d1ab314-09bb-4c20-d05a-e60d008445c6"
      },
      "source": [
        "ls()"
      ],
      "execution_count": null,
      "outputs": [
        {
          "output_type": "display_data",
          "data": {
            "text/html": [
              "<style>\n",
              ".list-inline {list-style: none; margin:0; padding: 0}\n",
              ".list-inline>li {display: inline-block}\n",
              ".list-inline>li:not(:last-child)::after {content: \"\\00b7\"; padding: 0 .5ex}\n",
              "</style>\n",
              "<ol class=list-inline><li>'a'</li><li>'A'</li><li>'b'</li><li>'c'</li><li>'concat'</li><li>'d'</li><li>'e'</li><li>'f'</li><li>'fruit'</li><li>'g'</li><li>'i'</li><li>'ind'</li><li>'l'</li><li>'labs'</li><li>'lunch'</li><li>'M'</li><li>'my_vector'</li><li>'not_S'</li><li>'out'</li><li>'result'</li><li>'S'</li><li>'say'</li><li>'sigmoid'</li><li>'string1'</li><li>'string2'</li><li>'T'</li><li>'t1'</li><li>'t2'</li><li>'temp'</li><li>'x'</li><li>'y'</li><li>'z'</li></ol>\n"
            ],
            "text/markdown": "1. 'a'\n2. 'A'\n3. 'b'\n4. 'c'\n5. 'concat'\n6. 'd'\n7. 'e'\n8. 'f'\n9. 'fruit'\n10. 'g'\n11. 'i'\n12. 'ind'\n13. 'l'\n14. 'labs'\n15. 'lunch'\n16. 'M'\n17. 'my_vector'\n18. 'not_S'\n19. 'out'\n20. 'result'\n21. 'S'\n22. 'say'\n23. 'sigmoid'\n24. 'string1'\n25. 'string2'\n26. 'T'\n27. 't1'\n28. 't2'\n29. 'temp'\n30. 'x'\n31. 'y'\n32. 'z'\n\n\n",
            "text/latex": "\\begin{enumerate*}\n\\item 'a'\n\\item 'A'\n\\item 'b'\n\\item 'c'\n\\item 'concat'\n\\item 'd'\n\\item 'e'\n\\item 'f'\n\\item 'fruit'\n\\item 'g'\n\\item 'i'\n\\item 'ind'\n\\item 'l'\n\\item 'labs'\n\\item 'lunch'\n\\item 'M'\n\\item 'my\\_vector'\n\\item 'not\\_S'\n\\item 'out'\n\\item 'result'\n\\item 'S'\n\\item 'say'\n\\item 'sigmoid'\n\\item 'string1'\n\\item 'string2'\n\\item 'T'\n\\item 't1'\n\\item 't2'\n\\item 'temp'\n\\item 'x'\n\\item 'y'\n\\item 'z'\n\\end{enumerate*}\n",
            "text/plain": [
              " [1] \"a\"         \"A\"         \"b\"         \"c\"         \"concat\"    \"d\"        \n",
              " [7] \"e\"         \"f\"         \"fruit\"     \"g\"         \"i\"         \"ind\"      \n",
              "[13] \"l\"         \"labs\"      \"lunch\"     \"M\"         \"my_vector\" \"not_S\"    \n",
              "[19] \"out\"       \"result\"    \"S\"         \"say\"       \"sigmoid\"   \"string1\"  \n",
              "[25] \"string2\"   \"T\"         \"t1\"        \"t2\"        \"temp\"      \"x\"        \n",
              "[31] \"y\"         \"z\"        "
            ]
          },
          "metadata": {}
        }
      ]
    },
    {
      "cell_type": "code",
      "metadata": {
        "colab": {
          "base_uri": "https://localhost:8080/",
          "height": 52
        },
        "id": "bXYxo626zuMW",
        "outputId": "dbdafb9d-f0b8-4874-ae4b-b156f4fc1a8d"
      },
      "source": [
        "objects()"
      ],
      "execution_count": null,
      "outputs": [
        {
          "output_type": "display_data",
          "data": {
            "text/html": [
              "<style>\n",
              ".list-inline {list-style: none; margin:0; padding: 0}\n",
              ".list-inline>li {display: inline-block}\n",
              ".list-inline>li:not(:last-child)::after {content: \"\\00b7\"; padding: 0 .5ex}\n",
              "</style>\n",
              "<ol class=list-inline><li>'a'</li><li>'A'</li><li>'b'</li><li>'c'</li><li>'concat'</li><li>'d'</li><li>'e'</li><li>'f'</li><li>'fruit'</li><li>'g'</li><li>'i'</li><li>'ind'</li><li>'l'</li><li>'labs'</li><li>'lunch'</li><li>'M'</li><li>'my_vector'</li><li>'not_S'</li><li>'out'</li><li>'result'</li><li>'S'</li><li>'say'</li><li>'sigmoid'</li><li>'string1'</li><li>'string2'</li><li>'T'</li><li>'t1'</li><li>'t2'</li><li>'temp'</li><li>'x'</li><li>'y'</li><li>'z'</li></ol>\n"
            ],
            "text/markdown": "1. 'a'\n2. 'A'\n3. 'b'\n4. 'c'\n5. 'concat'\n6. 'd'\n7. 'e'\n8. 'f'\n9. 'fruit'\n10. 'g'\n11. 'i'\n12. 'ind'\n13. 'l'\n14. 'labs'\n15. 'lunch'\n16. 'M'\n17. 'my_vector'\n18. 'not_S'\n19. 'out'\n20. 'result'\n21. 'S'\n22. 'say'\n23. 'sigmoid'\n24. 'string1'\n25. 'string2'\n26. 'T'\n27. 't1'\n28. 't2'\n29. 'temp'\n30. 'x'\n31. 'y'\n32. 'z'\n\n\n",
            "text/latex": "\\begin{enumerate*}\n\\item 'a'\n\\item 'A'\n\\item 'b'\n\\item 'c'\n\\item 'concat'\n\\item 'd'\n\\item 'e'\n\\item 'f'\n\\item 'fruit'\n\\item 'g'\n\\item 'i'\n\\item 'ind'\n\\item 'l'\n\\item 'labs'\n\\item 'lunch'\n\\item 'M'\n\\item 'my\\_vector'\n\\item 'not\\_S'\n\\item 'out'\n\\item 'result'\n\\item 'S'\n\\item 'say'\n\\item 'sigmoid'\n\\item 'string1'\n\\item 'string2'\n\\item 'T'\n\\item 't1'\n\\item 't2'\n\\item 'temp'\n\\item 'x'\n\\item 'y'\n\\item 'z'\n\\end{enumerate*}\n",
            "text/plain": [
              " [1] \"a\"         \"A\"         \"b\"         \"c\"         \"concat\"    \"d\"        \n",
              " [7] \"e\"         \"f\"         \"fruit\"     \"g\"         \"i\"         \"ind\"      \n",
              "[13] \"l\"         \"labs\"      \"lunch\"     \"M\"         \"my_vector\" \"not_S\"    \n",
              "[19] \"out\"       \"result\"    \"S\"         \"say\"       \"sigmoid\"   \"string1\"  \n",
              "[25] \"string2\"   \"T\"         \"t1\"        \"t2\"        \"temp\"      \"x\"        \n",
              "[31] \"y\"         \"z\"        "
            ]
          },
          "metadata": {}
        }
      ]
    },
    {
      "cell_type": "markdown",
      "metadata": {
        "id": "yc1ZHDg00z0b"
      },
      "source": [
        "**Hidden Objects**\n",
        "\n",
        "The object name can start with the `.` character. In that case, it won't appear when listing objects"
      ]
    },
    {
      "cell_type": "code",
      "metadata": {
        "id": "1BJdoRKrbmG3",
        "colab": {
          "base_uri": "https://localhost:8080/"
        },
        "outputId": "cd982d7c-0fc4-4af5-84cb-1b14952324a3"
      },
      "source": [
        "# Variables labels can start with the '.' character.\n",
        ".username = 'Student123'\n",
        "print(.username)"
      ],
      "execution_count": null,
      "outputs": [
        {
          "output_type": "stream",
          "name": "stdout",
          "text": [
            "[1] \"Student123\"\n"
          ]
        }
      ]
    },
    {
      "cell_type": "code",
      "metadata": {
        "colab": {
          "base_uri": "https://localhost:8080/",
          "height": 52
        },
        "id": "2oqL9u-v1Eox",
        "outputId": "6a12bea3-45ea-4bb4-e5dd-6540251dc089"
      },
      "source": [
        "ls()"
      ],
      "execution_count": null,
      "outputs": [
        {
          "output_type": "display_data",
          "data": {
            "text/html": [
              "<style>\n",
              ".list-inline {list-style: none; margin:0; padding: 0}\n",
              ".list-inline>li {display: inline-block}\n",
              ".list-inline>li:not(:last-child)::after {content: \"\\00b7\"; padding: 0 .5ex}\n",
              "</style>\n",
              "<ol class=list-inline><li>'a'</li><li>'A'</li><li>'b'</li><li>'c'</li><li>'concat'</li><li>'d'</li><li>'e'</li><li>'f'</li><li>'fruit'</li><li>'g'</li><li>'i'</li><li>'ind'</li><li>'l'</li><li>'labs'</li><li>'lunch'</li><li>'M'</li><li>'my_vector'</li><li>'not_S'</li><li>'out'</li><li>'result'</li><li>'S'</li><li>'say'</li><li>'sigmoid'</li><li>'string1'</li><li>'string2'</li><li>'T'</li><li>'t1'</li><li>'t2'</li><li>'temp'</li><li>'x'</li><li>'y'</li><li>'z'</li></ol>\n"
            ],
            "text/markdown": "1. 'a'\n2. 'A'\n3. 'b'\n4. 'c'\n5. 'concat'\n6. 'd'\n7. 'e'\n8. 'f'\n9. 'fruit'\n10. 'g'\n11. 'i'\n12. 'ind'\n13. 'l'\n14. 'labs'\n15. 'lunch'\n16. 'M'\n17. 'my_vector'\n18. 'not_S'\n19. 'out'\n20. 'result'\n21. 'S'\n22. 'say'\n23. 'sigmoid'\n24. 'string1'\n25. 'string2'\n26. 'T'\n27. 't1'\n28. 't2'\n29. 'temp'\n30. 'x'\n31. 'y'\n32. 'z'\n\n\n",
            "text/latex": "\\begin{enumerate*}\n\\item 'a'\n\\item 'A'\n\\item 'b'\n\\item 'c'\n\\item 'concat'\n\\item 'd'\n\\item 'e'\n\\item 'f'\n\\item 'fruit'\n\\item 'g'\n\\item 'i'\n\\item 'ind'\n\\item 'l'\n\\item 'labs'\n\\item 'lunch'\n\\item 'M'\n\\item 'my\\_vector'\n\\item 'not\\_S'\n\\item 'out'\n\\item 'result'\n\\item 'S'\n\\item 'say'\n\\item 'sigmoid'\n\\item 'string1'\n\\item 'string2'\n\\item 'T'\n\\item 't1'\n\\item 't2'\n\\item 'temp'\n\\item 'x'\n\\item 'y'\n\\item 'z'\n\\end{enumerate*}\n",
            "text/plain": [
              " [1] \"a\"         \"A\"         \"b\"         \"c\"         \"concat\"    \"d\"        \n",
              " [7] \"e\"         \"f\"         \"fruit\"     \"g\"         \"i\"         \"ind\"      \n",
              "[13] \"l\"         \"labs\"      \"lunch\"     \"M\"         \"my_vector\" \"not_S\"    \n",
              "[19] \"out\"       \"result\"    \"S\"         \"say\"       \"sigmoid\"   \"string1\"  \n",
              "[25] \"string2\"   \"T\"         \"t1\"        \"t2\"        \"temp\"      \"x\"        \n",
              "[31] \"y\"         \"z\"        "
            ]
          },
          "metadata": {}
        }
      ]
    },
    {
      "cell_type": "code",
      "metadata": {
        "colab": {
          "base_uri": "https://localhost:8080/",
          "height": 52
        },
        "id": "kZ7flozi1Eo_",
        "outputId": "8734224d-82c7-4bdd-f473-4a7ad7c85072"
      },
      "source": [
        "objects()"
      ],
      "execution_count": null,
      "outputs": [
        {
          "output_type": "display_data",
          "data": {
            "text/html": [
              "<style>\n",
              ".list-inline {list-style: none; margin:0; padding: 0}\n",
              ".list-inline>li {display: inline-block}\n",
              ".list-inline>li:not(:last-child)::after {content: \"\\00b7\"; padding: 0 .5ex}\n",
              "</style>\n",
              "<ol class=list-inline><li>'a'</li><li>'A'</li><li>'b'</li><li>'c'</li><li>'concat'</li><li>'d'</li><li>'e'</li><li>'f'</li><li>'fruit'</li><li>'g'</li><li>'i'</li><li>'ind'</li><li>'l'</li><li>'labs'</li><li>'lunch'</li><li>'M'</li><li>'my_vector'</li><li>'not_S'</li><li>'out'</li><li>'result'</li><li>'S'</li><li>'say'</li><li>'sigmoid'</li><li>'string1'</li><li>'string2'</li><li>'T'</li><li>'t1'</li><li>'t2'</li><li>'temp'</li><li>'x'</li><li>'y'</li><li>'z'</li></ol>\n"
            ],
            "text/markdown": "1. 'a'\n2. 'A'\n3. 'b'\n4. 'c'\n5. 'concat'\n6. 'd'\n7. 'e'\n8. 'f'\n9. 'fruit'\n10. 'g'\n11. 'i'\n12. 'ind'\n13. 'l'\n14. 'labs'\n15. 'lunch'\n16. 'M'\n17. 'my_vector'\n18. 'not_S'\n19. 'out'\n20. 'result'\n21. 'S'\n22. 'say'\n23. 'sigmoid'\n24. 'string1'\n25. 'string2'\n26. 'T'\n27. 't1'\n28. 't2'\n29. 'temp'\n30. 'x'\n31. 'y'\n32. 'z'\n\n\n",
            "text/latex": "\\begin{enumerate*}\n\\item 'a'\n\\item 'A'\n\\item 'b'\n\\item 'c'\n\\item 'concat'\n\\item 'd'\n\\item 'e'\n\\item 'f'\n\\item 'fruit'\n\\item 'g'\n\\item 'i'\n\\item 'ind'\n\\item 'l'\n\\item 'labs'\n\\item 'lunch'\n\\item 'M'\n\\item 'my\\_vector'\n\\item 'not\\_S'\n\\item 'out'\n\\item 'result'\n\\item 'S'\n\\item 'say'\n\\item 'sigmoid'\n\\item 'string1'\n\\item 'string2'\n\\item 'T'\n\\item 't1'\n\\item 't2'\n\\item 'temp'\n\\item 'x'\n\\item 'y'\n\\item 'z'\n\\end{enumerate*}\n",
            "text/plain": [
              " [1] \"a\"         \"A\"         \"b\"         \"c\"         \"concat\"    \"d\"        \n",
              " [7] \"e\"         \"f\"         \"fruit\"     \"g\"         \"i\"         \"ind\"      \n",
              "[13] \"l\"         \"labs\"      \"lunch\"     \"M\"         \"my_vector\" \"not_S\"    \n",
              "[19] \"out\"       \"result\"    \"S\"         \"say\"       \"sigmoid\"   \"string1\"  \n",
              "[25] \"string2\"   \"T\"         \"t1\"        \"t2\"        \"temp\"      \"x\"        \n",
              "[31] \"y\"         \"z\"        "
            ]
          },
          "metadata": {}
        }
      ]
    },
    {
      "cell_type": "markdown",
      "metadata": {
        "id": "p-15r4rX1vDU"
      },
      "source": [
        "## Task 1: Showing All Objects"
      ]
    },
    {
      "cell_type": "markdown",
      "metadata": {
        "id": "WlLvDMqj1nDF"
      },
      "source": [
        "Using the help of the `ls` command, find and set the argument to show all object names, including the ones that begins with the `.` character."
      ]
    },
    {
      "cell_type": "code",
      "metadata": {
        "id": "ZEQf0bKW2SFR"
      },
      "source": [
        "?ls"
      ],
      "execution_count": null,
      "outputs": []
    },
    {
      "cell_type": "code",
      "metadata": {
        "id": "yqp3KlbG2TGi"
      },
      "source": [
        "# <<< Code here"
      ],
      "execution_count": null,
      "outputs": []
    },
    {
      "cell_type": "markdown",
      "metadata": {
        "id": "yqGx3Gvd1HCK"
      },
      "source": [
        "**Removing Objects**\n",
        "\n",
        "Let's remove some objects using the `rm` command."
      ]
    },
    {
      "cell_type": "code",
      "metadata": {
        "id": "GrUud2tU1NHK"
      },
      "source": [
        "rm(A)"
      ],
      "execution_count": null,
      "outputs": []
    },
    {
      "cell_type": "code",
      "metadata": {
        "id": "Z-LadOVcz2Ja"
      },
      "source": [
        "# Repeat code from task one here, and check if objects were deleted."
      ],
      "execution_count": null,
      "outputs": []
    },
    {
      "cell_type": "markdown",
      "metadata": {
        "id": "POyt08_95dMe"
      },
      "source": [
        "**Removing All Objects**\n",
        "\n",
        "Let's remove all objects, except the ones whose name starts with the `.` character."
      ]
    },
    {
      "cell_type": "code",
      "metadata": {
        "id": "CQAKH5SL5wRW"
      },
      "source": [
        "rm(list=ls())"
      ],
      "execution_count": null,
      "outputs": []
    },
    {
      "cell_type": "markdown",
      "metadata": {
        "id": "-oHdCarB-TBd"
      },
      "source": [
        "## Function Definition"
      ]
    },
    {
      "cell_type": "markdown",
      "metadata": {
        "id": "R4bMM5G3-Yc3"
      },
      "source": [
        "Below is the syntax for defining a function in R."
      ]
    },
    {
      "cell_type": "code",
      "metadata": {
        "colab": {
          "base_uri": "https://localhost:8080/",
          "height": 53
        },
        "id": "ONaJ4nOC-W5L",
        "outputId": "8cbfa1a3-4128-4db4-d091-bedf5135c1ae"
      },
      "source": [
        "say <- function(something, another_thing){\n",
        "  print(something)\n",
        "  return(another_thing)\n",
        "}\n",
        "\n",
        "result <- say('what I want', 'what I get')\n",
        "result"
      ],
      "execution_count": null,
      "outputs": [
        {
          "output_type": "stream",
          "name": "stdout",
          "text": [
            "[1] \"what I want\"\n"
          ]
        },
        {
          "output_type": "display_data",
          "data": {
            "text/html": [
              "'what I get'"
            ],
            "text/markdown": "'what I get'",
            "text/latex": "'what I get'",
            "text/plain": [
              "[1] \"what I get\""
            ]
          },
          "metadata": {}
        }
      ]
    },
    {
      "cell_type": "markdown",
      "metadata": {
        "id": "3_Cnjlyk3R5E"
      },
      "source": [
        "# Simple Manipulation, Numbers and Vectors"
      ]
    },
    {
      "cell_type": "markdown",
      "metadata": {
        "id": "IVyF01Jd6klx"
      },
      "source": [
        "## Basic Arithmetics"
      ]
    },
    {
      "cell_type": "code",
      "metadata": {
        "colab": {
          "base_uri": "https://localhost:8080/",
          "height": 69
        },
        "id": "BSf3f1xn6nQg",
        "outputId": "8a817629-1036-4899-d6e1-2d5857ee07cd"
      },
      "source": [
        "# Basic math operators are built-in in R\n",
        "1+7*2/3\n",
        "(1+7*2)/3\n",
        "((1+7*2)/3)^2"
      ],
      "execution_count": null,
      "outputs": [
        {
          "output_type": "display_data",
          "data": {
            "text/html": [
              "5.66666666666667"
            ],
            "text/markdown": "5.66666666666667",
            "text/latex": "5.66666666666667",
            "text/plain": [
              "[1] 5.666667"
            ]
          },
          "metadata": {}
        },
        {
          "output_type": "display_data",
          "data": {
            "text/html": [
              "5"
            ],
            "text/markdown": "5",
            "text/latex": "5",
            "text/plain": [
              "[1] 5"
            ]
          },
          "metadata": {}
        },
        {
          "output_type": "display_data",
          "data": {
            "text/html": [
              "25"
            ],
            "text/markdown": "25",
            "text/latex": "25",
            "text/plain": [
              "[1] 25"
            ]
          },
          "metadata": {}
        }
      ]
    },
    {
      "cell_type": "markdown",
      "metadata": {
        "id": "mdd28Z-r8Wbr"
      },
      "source": [
        "## Task 2: Try other basic operators"
      ]
    },
    {
      "cell_type": "markdown",
      "metadata": {
        "id": "_wiHptPE8ah2"
      },
      "source": [
        "Other common arithmentic operators (`log`, `exp`, `sin`, `cos`, `tan`, `sqrt`, and so on) are also available.\n",
        "\n",
        "Knowing that the sigmoid function is given by\n",
        "\n",
        "$$\n",
        "S(x) = \\frac{1}{1+e^{-x}}\n",
        "$$\n",
        "\n",
        "Write an expression below to evaluate the sigmoid with the value in `x`.\n",
        "\n",
        "For `x = 0` the result should be `0.5`."
      ]
    },
    {
      "cell_type": "code",
      "metadata": {
        "colab": {
          "base_uri": "https://localhost:8080/"
        },
        "id": "NE5hihpf8aDX",
        "outputId": "59dad70d-d480-4a09-eaea-c1feabf06207"
      },
      "source": [
        "x = 0\n",
        "# result = # Write your code in here.\n",
        "print(result)"
      ],
      "execution_count": null,
      "outputs": [
        {
          "output_type": "stream",
          "name": "stdout",
          "text": [
            "[1] 0.5\n"
          ]
        }
      ]
    },
    {
      "cell_type": "markdown",
      "metadata": {
        "id": "4obNZmGUsqjV"
      },
      "source": [
        "## R Data Types\n",
        "\n"
      ]
    },
    {
      "cell_type": "markdown",
      "metadata": {
        "id": "_dBPu33Vsvux"
      },
      "source": [
        "- Everything in R is an object\n",
        "- R has 6 basic types\n",
        "  - logical numeric (real or decimal)\n",
        "  - integer\n",
        "  - complex\n",
        "  - character\n",
        "  - raw (for raw byte data, typically for binary information)"
      ]
    },
    {
      "cell_type": "markdown",
      "metadata": {
        "id": "djcIJKVIuwRG"
      },
      "source": [
        "**Class**"
      ]
    },
    {
      "cell_type": "code",
      "metadata": {
        "colab": {
          "base_uri": "https://localhost:8080/",
          "height": 34
        },
        "id": "Y3aL5fgstH_J",
        "outputId": "33cde644-933d-4806-bf32-97900d5e86d9"
      },
      "source": [
        "class(TRUE) # TRUE and FALSE are capitalized in R. ## \"logical\""
      ],
      "execution_count": null,
      "outputs": [
        {
          "output_type": "display_data",
          "data": {
            "text/html": [
              "'logical'"
            ],
            "text/markdown": "'logical'",
            "text/latex": "'logical'",
            "text/plain": [
              "[1] \"logical\""
            ]
          },
          "metadata": {}
        }
      ]
    },
    {
      "cell_type": "code",
      "metadata": {
        "colab": {
          "base_uri": "https://localhost:8080/",
          "height": 34
        },
        "id": "nT7BLR5btJYS",
        "outputId": "d57ae4d4-6054-4fbd-e079-2df2a6bb5935"
      },
      "source": [
        "class(T) # T and F are capitalized in R. ## \"logical\""
      ],
      "execution_count": null,
      "outputs": [
        {
          "output_type": "display_data",
          "data": {
            "text/html": [
              "'logical'"
            ],
            "text/markdown": "'logical'",
            "text/latex": "'logical'",
            "text/plain": [
              "[1] \"logical\""
            ]
          },
          "metadata": {}
        }
      ]
    },
    {
      "cell_type": "code",
      "metadata": {
        "colab": {
          "base_uri": "https://localhost:8080/",
          "height": 34
        },
        "id": "rRXyziQEtK_T",
        "outputId": "f8ccf3ba-f56b-4149-9a17-359e1514f295"
      },
      "source": [
        "class(23.5) # \"numeric\""
      ],
      "execution_count": null,
      "outputs": [
        {
          "output_type": "display_data",
          "data": {
            "text/html": [
              "'numeric'"
            ],
            "text/markdown": "'numeric'",
            "text/latex": "'numeric'",
            "text/plain": [
              "[1] \"numeric\""
            ]
          },
          "metadata": {}
        }
      ]
    },
    {
      "cell_type": "code",
      "metadata": {
        "colab": {
          "base_uri": "https://localhost:8080/",
          "height": 34
        },
        "id": "36zTNqVVtUoi",
        "outputId": "77753b2c-bda9-434b-9cfd-f2129deabe84"
      },
      "source": [
        "class(2L) # L Extends for Long (int) 32-bits. # \"integer\""
      ],
      "execution_count": null,
      "outputs": [
        {
          "output_type": "display_data",
          "data": {
            "text/html": [
              "'integer'"
            ],
            "text/markdown": "'integer'",
            "text/latex": "'integer'",
            "text/plain": [
              "[1] \"integer\""
            ]
          },
          "metadata": {}
        }
      ]
    },
    {
      "cell_type": "markdown",
      "metadata": {
        "id": "sN5Jm-eBuy8A"
      },
      "source": [
        "**Type**"
      ]
    },
    {
      "cell_type": "code",
      "metadata": {
        "id": "pnaRAo5LtDd4",
        "colab": {
          "base_uri": "https://localhost:8080/",
          "height": 34
        },
        "outputId": "1aa71b0a-c9f9-4f9d-cc8d-aaa8e2dc545f"
      },
      "source": [
        "typeof(2+5i) # \"complex\""
      ],
      "execution_count": null,
      "outputs": [
        {
          "output_type": "display_data",
          "data": {
            "text/html": [
              "'complex'"
            ],
            "text/markdown": "'complex'",
            "text/latex": "'complex'",
            "text/plain": [
              "[1] \"complex\""
            ]
          },
          "metadata": {}
        }
      ]
    },
    {
      "cell_type": "code",
      "metadata": {
        "id": "M00hzbojtbhD",
        "colab": {
          "base_uri": "https://localhost:8080/",
          "height": 34
        },
        "outputId": "f1a79ddc-2589-4808-c933-fb56a51e0865"
      },
      "source": [
        "typeof(\"TRUE\") # \"character\""
      ],
      "execution_count": null,
      "outputs": [
        {
          "output_type": "display_data",
          "data": {
            "text/html": [
              "'character'"
            ],
            "text/markdown": "'character'",
            "text/latex": "'character'",
            "text/plain": [
              "[1] \"character\""
            ]
          },
          "metadata": {}
        }
      ]
    },
    {
      "cell_type": "code",
      "metadata": {
        "id": "-ZYLjK4AtccX",
        "colab": {
          "base_uri": "https://localhost:8080/",
          "height": 34
        },
        "outputId": "e2d5ad31-88b0-41c4-9c06-a97a5f374dda"
      },
      "source": [
        "typeof(charToRaw(\"TRUE\")) # \"raw\""
      ],
      "execution_count": null,
      "outputs": [
        {
          "output_type": "display_data",
          "data": {
            "text/html": [
              "'raw'"
            ],
            "text/markdown": "'raw'",
            "text/latex": "'raw'",
            "text/plain": [
              "[1] \"raw\""
            ]
          },
          "metadata": {}
        }
      ]
    },
    {
      "cell_type": "markdown",
      "metadata": {
        "id": "7GrEQXPavkwz"
      },
      "source": [
        "**Class vs Type**\n",
        "\n",
        "From [Stackoverflow](https://stackoverflow.com/a/62052252/2313889):\n",
        "\n",
        "> simply put, the only really useful ones are `class()` and `typeof()`\n",
        ">\n",
        "> `class` can be described as the 'container' of an object, an attribute that makes this object behave externally with functions that take this particular 'type' of object as argument\n",
        ">\n",
        "> `type` is what this object is made of inside the container, the 'type' of underlying values\n",
        ">\n",
        "> good obvious example:"
      ]
    },
    {
      "cell_type": "code",
      "metadata": {
        "colab": {
          "base_uri": "https://localhost:8080/",
          "height": 52
        },
        "id": "8sHUh-THwNl2",
        "outputId": "07dac6a1-4d56-4117-e289-4ac1481f9b1a"
      },
      "source": [
        "x <- as.Date('2010-01-01')\n",
        "class(x) # Date\n",
        "typeof(x) # double"
      ],
      "execution_count": null,
      "outputs": [
        {
          "output_type": "display_data",
          "data": {
            "text/html": [
              "'Date'"
            ],
            "text/markdown": "'Date'",
            "text/latex": "'Date'",
            "text/plain": [
              "[1] \"Date\""
            ]
          },
          "metadata": {}
        },
        {
          "output_type": "display_data",
          "data": {
            "text/html": [
              "'double'"
            ],
            "text/markdown": "'double'",
            "text/latex": "'double'",
            "text/plain": [
              "[1] \"double\""
            ]
          },
          "metadata": {}
        }
      ]
    },
    {
      "cell_type": "markdown",
      "metadata": {
        "id": "zCmKzOgy3lxd"
      },
      "source": [
        "## Vectors\n",
        "\n",
        "Vectors are the simplest *data structure* in R"
      ]
    },
    {
      "cell_type": "code",
      "metadata": {
        "colab": {
          "base_uri": "https://localhost:8080/",
          "height": 34
        },
        "id": "k8vFtDpX3iX9",
        "outputId": "c3ee94d1-cefa-4d9b-c723-f243cf561b7e"
      },
      "source": [
        "x <- c(2, 4, 6)\n",
        "x"
      ],
      "execution_count": null,
      "outputs": [
        {
          "output_type": "display_data",
          "data": {
            "text/html": [
              "<style>\n",
              ".list-inline {list-style: none; margin:0; padding: 0}\n",
              ".list-inline>li {display: inline-block}\n",
              ".list-inline>li:not(:last-child)::after {content: \"\\00b7\"; padding: 0 .5ex}\n",
              "</style>\n",
              "<ol class=list-inline><li>2</li><li>4</li><li>6</li></ol>\n"
            ],
            "text/markdown": "1. 2\n2. 4\n3. 6\n\n\n",
            "text/latex": "\\begin{enumerate*}\n\\item 2\n\\item 4\n\\item 6\n\\end{enumerate*}\n",
            "text/plain": [
              "[1] 2 4 6"
            ]
          },
          "metadata": {}
        }
      ]
    },
    {
      "cell_type": "code",
      "metadata": {
        "colab": {
          "base_uri": "https://localhost:8080/",
          "height": 52
        },
        "id": "1Utgh44JtojX",
        "outputId": "7f57e669-9091-4ee1-81ae-1660d0c255e1"
      },
      "source": [
        "# Vector is the default structure in R\n",
        "a = 1L; is.vector(a)\n",
        "a = 'a'; is.vector(a)"
      ],
      "execution_count": null,
      "outputs": [
        {
          "output_type": "display_data",
          "data": {
            "text/html": [
              "TRUE"
            ],
            "text/markdown": "TRUE",
            "text/latex": "TRUE",
            "text/plain": [
              "[1] TRUE"
            ]
          },
          "metadata": {}
        },
        {
          "output_type": "display_data",
          "data": {
            "text/html": [
              "TRUE"
            ],
            "text/markdown": "TRUE",
            "text/latex": "TRUE",
            "text/plain": [
              "[1] TRUE"
            ]
          },
          "metadata": {}
        }
      ]
    },
    {
      "cell_type": "markdown",
      "metadata": {
        "id": "XuXqcz13A4Cc"
      },
      "source": [
        "**Creating Vectors with Vectors**"
      ]
    },
    {
      "cell_type": "code",
      "metadata": {
        "colab": {
          "base_uri": "https://localhost:8080/",
          "height": 34
        },
        "id": "LW23cjnfA4j1",
        "outputId": "e40afffe-1d4e-400f-81d8-b1ee6ab59ad2"
      },
      "source": [
        "# Using a vector to compose another vector\n",
        "y <- c(-x, 0, x)\n",
        "y"
      ],
      "execution_count": null,
      "outputs": [
        {
          "output_type": "display_data",
          "data": {
            "text/html": [
              "<style>\n",
              ".list-inline {list-style: none; margin:0; padding: 0}\n",
              ".list-inline>li {display: inline-block}\n",
              ".list-inline>li:not(:last-child)::after {content: \"\\00b7\"; padding: 0 .5ex}\n",
              "</style>\n",
              "<ol class=list-inline><li>-2</li><li>-4</li><li>-6</li><li>0</li><li>2</li><li>4</li><li>6</li></ol>\n"
            ],
            "text/markdown": "1. -2\n2. -4\n3. -6\n4. 0\n5. 2\n6. 4\n7. 6\n\n\n",
            "text/latex": "\\begin{enumerate*}\n\\item -2\n\\item -4\n\\item -6\n\\item 0\n\\item 2\n\\item 4\n\\item 6\n\\end{enumerate*}\n",
            "text/plain": [
              "[1] -2 -4 -6  0  2  4  6"
            ]
          },
          "metadata": {}
        }
      ]
    },
    {
      "cell_type": "markdown",
      "metadata": {
        "id": "hELRMM7rAJYH"
      },
      "source": [
        "## Task 3: Sigmoid as a function"
      ]
    },
    {
      "cell_type": "markdown",
      "metadata": {
        "id": "vrx9eIDVARRN"
      },
      "source": [
        "Wrap the calculation for the sigmoid into a function. Then use this function to compute the sigmoid of `y`."
      ]
    },
    {
      "cell_type": "code",
      "metadata": {
        "id": "ubmBgbwOAY6v"
      },
      "source": [
        "#sigmoid <- # Write your code here"
      ],
      "execution_count": null,
      "outputs": []
    },
    {
      "cell_type": "code",
      "metadata": {
        "colab": {
          "base_uri": "https://localhost:8080/",
          "height": 34
        },
        "id": "_bcv8uWvAdmz",
        "outputId": "fe037848-2291-4f90-e0f4-59b6d19affb2"
      },
      "source": [
        "sigmoid(y)"
      ],
      "execution_count": null,
      "outputs": [
        {
          "output_type": "display_data",
          "data": {
            "text/html": [
              "<style>\n",
              ".list-inline {list-style: none; margin:0; padding: 0}\n",
              ".list-inline>li {display: inline-block}\n",
              ".list-inline>li:not(:last-child)::after {content: \"\\00b7\"; padding: 0 .5ex}\n",
              "</style>\n",
              "<ol class=list-inline><li>0.119202922022118</li><li>0.0179862099620916</li><li>0.00247262315663477</li><li>0.5</li><li>0.880797077977882</li><li>0.982013790037908</li><li>0.997527376843365</li></ol>\n"
            ],
            "text/markdown": "1. 0.119202922022118\n2. 0.0179862099620916\n3. 0.00247262315663477\n4. 0.5\n5. 0.880797077977882\n6. 0.982013790037908\n7. 0.997527376843365\n\n\n",
            "text/latex": "\\begin{enumerate*}\n\\item 0.119202922022118\n\\item 0.0179862099620916\n\\item 0.00247262315663477\n\\item 0.5\n\\item 0.880797077977882\n\\item 0.982013790037908\n\\item 0.997527376843365\n\\end{enumerate*}\n",
            "text/plain": [
              "[1] 0.119202922 0.017986210 0.002472623 0.500000000 0.880797078 0.982013790\n",
              "[7] 0.997527377"
            ]
          },
          "metadata": {}
        }
      ]
    },
    {
      "cell_type": "markdown",
      "metadata": {
        "id": "mh_PB8qTADQV"
      },
      "source": [
        "**Additional operation on vectors**"
      ]
    },
    {
      "cell_type": "markdown",
      "metadata": {
        "id": "BDeBfqKpAHP9"
      },
      "source": [
        "- `max` and `min` select the largest and smallest elements of a vector respectively;\n",
        "- `range` is a function whose value is a vector of length two, namely `c(min(x), max(x))`;\n",
        "-`length(x)` is the number of elements in `x`;\n",
        "- `sum(x)` gives the total of the elements in `x`;\n",
        "- `prod(x)` gives the total product of the elements in `x`;\n",
        "- `mean(x)` and `var(x)` gives the maan and variance of the vector, respectively.\n",
        "- etc..."
      ]
    },
    {
      "cell_type": "markdown",
      "metadata": {
        "id": "v6W4x8z6DSTu"
      },
      "source": [
        "**Generating Regular Sequences**"
      ]
    },
    {
      "cell_type": "code",
      "metadata": {
        "colab": {
          "base_uri": "https://localhost:8080/"
        },
        "id": "ass82Vqo7ng8",
        "outputId": "ae9eb69a-914c-427b-a9b9-bc015f7b347b"
      },
      "source": [
        "a <- -10:10\n",
        "print(a)"
      ],
      "execution_count": null,
      "outputs": [
        {
          "output_type": "stream",
          "name": "stdout",
          "text": [
            " [1] -10  -9  -8  -7  -6  -5  -4  -3  -2  -1   0   1   2   3   4   5   6   7   8\n",
            "[20]   9  10\n"
          ]
        }
      ]
    },
    {
      "cell_type": "markdown",
      "metadata": {
        "id": "fF_Z8Rj7FNde"
      },
      "source": [
        "**Using `seq` function**"
      ]
    },
    {
      "cell_type": "code",
      "metadata": {
        "colab": {
          "base_uri": "https://localhost:8080/"
        },
        "id": "6RaPiUV2Ese2",
        "outputId": "0fa124f8-4c47-4915-e3d0-c7d70ec5bf8e"
      },
      "source": [
        "b <- seq(from=-10, to=10, by=2)\n",
        "print(b)"
      ],
      "execution_count": null,
      "outputs": [
        {
          "output_type": "stream",
          "name": "stdout",
          "text": [
            " [1] -10  -8  -6  -4  -2   0   2   4   6   8  10\n"
          ]
        }
      ]
    },
    {
      "cell_type": "code",
      "metadata": {
        "colab": {
          "base_uri": "https://localhost:8080/"
        },
        "id": "7nDeQadqEtnM",
        "outputId": "148a5525-71e9-4af2-a2a1-99dc7ba0decf"
      },
      "source": [
        "c <- seq(from=-10, by=2, length=5)\n",
        "print(c)"
      ],
      "execution_count": null,
      "outputs": [
        {
          "output_type": "stream",
          "name": "stdout",
          "text": [
            "[1] -10  -8  -6  -4  -2\n"
          ]
        }
      ]
    },
    {
      "cell_type": "markdown",
      "metadata": {
        "id": "8L-epL4KFBri"
      },
      "source": [
        "**Repeating Values of Vector**"
      ]
    },
    {
      "cell_type": "code",
      "metadata": {
        "colab": {
          "base_uri": "https://localhost:8080/"
        },
        "id": "lT4M6VYf7h_4",
        "outputId": "2f1df1dc-b3f1-4803-8312-e741f501521c"
      },
      "source": [
        "d <- rep(c, times=3) # puts three copies of x end-to-end\n",
        "print(d)"
      ],
      "execution_count": null,
      "outputs": [
        {
          "output_type": "stream",
          "name": "stdout",
          "text": [
            " [1] -10  -8  -6  -4  -2 -10  -8  -6  -4  -2 -10  -8  -6  -4  -2\n"
          ]
        }
      ]
    },
    {
      "cell_type": "code",
      "metadata": {
        "colab": {
          "base_uri": "https://localhost:8080/"
        },
        "id": "g_-kVn007lc8",
        "outputId": "90a00246-cb88-433d-8155-85e479295eae"
      },
      "source": [
        "e <- rep(c, each=3) # repeats each element of x three times before moving on to the next\n",
        "print(e)"
      ],
      "execution_count": null,
      "outputs": [
        {
          "output_type": "stream",
          "name": "stdout",
          "text": [
            " [1] -10 -10 -10  -8  -8  -8  -6  -6  -6  -4  -4  -4  -2  -2  -2\n"
          ]
        }
      ]
    },
    {
      "cell_type": "markdown",
      "metadata": {
        "id": "Z79q8XWq79dG"
      },
      "source": [
        "**Logical Vectors**"
      ]
    },
    {
      "cell_type": "code",
      "metadata": {
        "colab": {
          "base_uri": "https://localhost:8080/"
        },
        "id": "EqaKYE1AFv9c",
        "outputId": "6bf4b228-5f17-4378-a183-dda709a5d5d6"
      },
      "source": [
        "temp <- b > 0\n",
        "print(b)\n",
        "print(temp)"
      ],
      "execution_count": null,
      "outputs": [
        {
          "output_type": "stream",
          "name": "stdout",
          "text": [
            " [1] -10  -8  -6  -4  -2   0   2   4   6   8  10\n",
            " [1] FALSE FALSE FALSE FALSE FALSE FALSE  TRUE  TRUE  TRUE  TRUE  TRUE\n"
          ]
        }
      ]
    },
    {
      "cell_type": "markdown",
      "metadata": {
        "id": "5OMqBl18i26-"
      },
      "source": [
        "Other logic operators:\n",
        "\n",
        "- `<`, `<=`, `>`, `>=`, `==` for exact equality and `!=` for inequality.\n",
        "- if `c1` and `c2` are logical expressions,\n",
        "  - then `c1 & c2` is their intersection (“and”),\n",
        "  - `c1 | c2` is their union (“or”),\n",
        "  - and `!c1` is the negation of `c1`\n"
      ]
    },
    {
      "cell_type": "markdown",
      "metadata": {
        "id": "F2NT4Kztk2pz"
      },
      "source": [
        "**Missing Values**"
      ]
    },
    {
      "cell_type": "markdown",
      "metadata": {
        "id": "nsb63kusmQYC"
      },
      "source": [
        "In general any operation on an `NA` becomes an `NA`. The motivation for this rule is simply that if the specification of an operation is incomplete, the result cannot be known and hence is *not available*."
      ]
    },
    {
      "cell_type": "code",
      "metadata": {
        "id": "oLB4GRDikAhf"
      },
      "source": [
        "z <- c(1:3,NA)"
      ],
      "execution_count": null,
      "outputs": []
    },
    {
      "cell_type": "code",
      "metadata": {
        "colab": {
          "base_uri": "https://localhost:8080/",
          "height": 34
        },
        "id": "8ErfdcYHk6XW",
        "outputId": "14fbdeec-442f-42b6-ab0e-add8ab2308b8"
      },
      "source": [
        "ind <- is.na(z) # Compares each element with NA\n",
        "ind"
      ],
      "execution_count": null,
      "outputs": [
        {
          "output_type": "display_data",
          "data": {
            "text/html": [
              "<style>\n",
              ".list-inline {list-style: none; margin:0; padding: 0}\n",
              ".list-inline>li {display: inline-block}\n",
              ".list-inline>li:not(:last-child)::after {content: \"\\00b7\"; padding: 0 .5ex}\n",
              "</style>\n",
              "<ol class=list-inline><li>FALSE</li><li>FALSE</li><li>FALSE</li><li>TRUE</li></ol>\n"
            ],
            "text/markdown": "1. FALSE\n2. FALSE\n3. FALSE\n4. TRUE\n\n\n",
            "text/latex": "\\begin{enumerate*}\n\\item FALSE\n\\item FALSE\n\\item FALSE\n\\item TRUE\n\\end{enumerate*}\n",
            "text/plain": [
              "[1] FALSE FALSE FALSE  TRUE"
            ]
          },
          "metadata": {}
        }
      ]
    },
    {
      "cell_type": "markdown",
      "metadata": {
        "id": "eVKzhxgMllPa"
      },
      "source": [
        "**Non-a-Number**"
      ]
    },
    {
      "cell_type": "code",
      "metadata": {
        "colab": {
          "base_uri": "https://localhost:8080/",
          "height": 34
        },
        "id": "FKuf_ivulo0h",
        "outputId": "cdd674ef-3b1d-4358-9e0e-d5a397e2113a"
      },
      "source": [
        "0/0"
      ],
      "execution_count": null,
      "outputs": [
        {
          "output_type": "display_data",
          "data": {
            "text/html": [
              "NaN"
            ],
            "text/markdown": "NaN",
            "text/latex": "NaN",
            "text/plain": [
              "[1] NaN"
            ]
          },
          "metadata": {}
        }
      ]
    },
    {
      "cell_type": "code",
      "metadata": {
        "colab": {
          "base_uri": "https://localhost:8080/",
          "height": 34
        },
        "id": "iKO1Yawolpvn",
        "outputId": "f325b7d6-8929-42e6-dafb-636f8354d2ad"
      },
      "source": [
        "Inf - Inf"
      ],
      "execution_count": null,
      "outputs": [
        {
          "output_type": "display_data",
          "data": {
            "text/html": [
              "NaN"
            ],
            "text/markdown": "NaN",
            "text/latex": "NaN",
            "text/plain": [
              "[1] NaN"
            ]
          },
          "metadata": {}
        }
      ]
    },
    {
      "cell_type": "code",
      "metadata": {
        "colab": {
          "base_uri": "https://localhost:8080/",
          "height": 52
        },
        "id": "V4AwjX9Al1lZ",
        "outputId": "44e7ffd8-78b9-454d-c08a-4674c8fbf8ed"
      },
      "source": [
        "is.na(NA); is.na(NaN)"
      ],
      "execution_count": null,
      "outputs": [
        {
          "output_type": "display_data",
          "data": {
            "text/html": [
              "TRUE"
            ],
            "text/markdown": "TRUE",
            "text/latex": "TRUE",
            "text/plain": [
              "[1] TRUE"
            ]
          },
          "metadata": {}
        },
        {
          "output_type": "display_data",
          "data": {
            "text/html": [
              "TRUE"
            ],
            "text/markdown": "TRUE",
            "text/latex": "TRUE",
            "text/plain": [
              "[1] TRUE"
            ]
          },
          "metadata": {}
        }
      ]
    },
    {
      "cell_type": "code",
      "metadata": {
        "colab": {
          "base_uri": "https://localhost:8080/",
          "height": 52
        },
        "id": "0iOF5terl3nW",
        "outputId": "675779c4-3fdd-4a80-c114-3fb89e1d6c59"
      },
      "source": [
        "is.nan(NA); is.nan(NaN)"
      ],
      "execution_count": null,
      "outputs": [
        {
          "output_type": "display_data",
          "data": {
            "text/html": [
              "FALSE"
            ],
            "text/markdown": "FALSE",
            "text/latex": "FALSE",
            "text/plain": [
              "[1] FALSE"
            ]
          },
          "metadata": {}
        },
        {
          "output_type": "display_data",
          "data": {
            "text/html": [
              "TRUE"
            ],
            "text/markdown": "TRUE",
            "text/latex": "TRUE",
            "text/plain": [
              "[1] TRUE"
            ]
          },
          "metadata": {}
        }
      ]
    },
    {
      "cell_type": "markdown",
      "metadata": {
        "id": "7vgaFv6Zf2tj"
      },
      "source": [
        "## Task 4: Create a Vector with Multiple Types"
      ]
    },
    {
      "cell_type": "markdown",
      "metadata": {
        "id": "GtMqVJ7luLzG"
      },
      "source": [
        "Create a vector with multiple types, such as the values below, and check their data type.\n",
        "\n",
        "> 42, 'John Doe', TRUE"
      ]
    },
    {
      "cell_type": "code",
      "metadata": {
        "id": "In1Dls54F0oG"
      },
      "source": [
        "# Your code goes here...\n",
        "# Print the Vector with the information above."
      ],
      "execution_count": null,
      "outputs": []
    },
    {
      "cell_type": "markdown",
      "metadata": {
        "id": "51Kuar95wn4C"
      },
      "source": [
        "**Question**\n",
        "\n",
        "What can you notice about each vector element?"
      ]
    },
    {
      "cell_type": "code",
      "metadata": {
        "id": "G9jBgmNywgRS"
      },
      "source": [
        "# Check the type of the vector above"
      ],
      "execution_count": null,
      "outputs": []
    },
    {
      "cell_type": "markdown",
      "metadata": {
        "id": "Yud6kxOo0mQR"
      },
      "source": [
        "## Concatenation"
      ]
    },
    {
      "cell_type": "markdown",
      "metadata": {
        "id": "CXzeW1Po06pP"
      },
      "source": [
        "**Concatenate two strings**"
      ]
    },
    {
      "cell_type": "code",
      "metadata": {
        "id": "tlDK1MVw0pMX"
      },
      "source": [
        "# create 2 different strings.\n",
        "string1 <- \"String1\" # first string\n",
        "string2 <- \"String2\" # second string."
      ],
      "execution_count": null,
      "outputs": []
    },
    {
      "cell_type": "code",
      "metadata": {
        "colab": {
          "base_uri": "https://localhost:8080/",
          "height": 70
        },
        "id": "xyTjfG0rzpZl",
        "outputId": "73bad9f6-92ec-4f20-e0e1-e14d23bc46ac"
      },
      "source": [
        "concat <- c(string1, string2)\n",
        "print(concat)\n",
        "typeof(concat)\n",
        "class(concat)"
      ],
      "execution_count": null,
      "outputs": [
        {
          "output_type": "stream",
          "name": "stdout",
          "text": [
            "[1] \"String1\" \"String2\"\n"
          ]
        },
        {
          "output_type": "display_data",
          "data": {
            "text/html": [
              "'character'"
            ],
            "text/markdown": "'character'",
            "text/latex": "'character'",
            "text/plain": [
              "[1] \"character\""
            ]
          },
          "metadata": {}
        },
        {
          "output_type": "display_data",
          "data": {
            "text/html": [
              "'character'"
            ],
            "text/markdown": "'character'",
            "text/latex": "'character'",
            "text/plain": [
              "[1] \"character\""
            ]
          },
          "metadata": {}
        }
      ]
    },
    {
      "cell_type": "markdown",
      "metadata": {
        "id": "BtX45Gih19le"
      },
      "source": [
        "**The `paste` function**\n",
        "\n",
        "- Takes an arbitrary number of arguments and concatenates them one by one into character strings.\n",
        "- Any numbers given among the arguments are coerced into character strings\n",
        "- Arguments are by default separated in the result by a single blank character\n"
      ]
    },
    {
      "cell_type": "code",
      "metadata": {
        "colab": {
          "base_uri": "https://localhost:8080/",
          "height": 70
        },
        "id": "Wia5LRs50-0p",
        "outputId": "f72b6b51-1292-4820-efef-930c5480d6ba"
      },
      "source": [
        "# Using paste() function to perform string concatenation.\n",
        "S <- paste(string1, string2)\n",
        "print(S)# print the output string\n",
        "typeof(S)\n",
        "class(S)"
      ],
      "execution_count": null,
      "outputs": [
        {
          "output_type": "stream",
          "name": "stdout",
          "text": [
            "[1] \"String1 String2\"\n"
          ]
        },
        {
          "output_type": "display_data",
          "data": {
            "text/html": [
              "'character'"
            ],
            "text/markdown": "'character'",
            "text/latex": "'character'",
            "text/plain": [
              "[1] \"character\""
            ]
          },
          "metadata": {}
        },
        {
          "output_type": "display_data",
          "data": {
            "text/html": [
              "'character'"
            ],
            "text/markdown": "'character'",
            "text/latex": "'character'",
            "text/plain": [
              "[1] \"character\""
            ]
          },
          "metadata": {}
        }
      ]
    },
    {
      "cell_type": "code",
      "metadata": {
        "colab": {
          "base_uri": "https://localhost:8080/"
        },
        "id": "M1hzVKdE2SsC",
        "outputId": "634b6332-c2a7-47c8-de5b-3015541d4e53"
      },
      "source": [
        "S <- paste(string1, string2, sep =\"\")\n",
        "print(S)# print the output string"
      ],
      "execution_count": null,
      "outputs": [
        {
          "output_type": "stream",
          "name": "stdout",
          "text": [
            "[1] \"String1String2\"\n"
          ]
        }
      ]
    },
    {
      "cell_type": "code",
      "metadata": {
        "colab": {
          "base_uri": "https://localhost:8080/"
        },
        "id": "mNlP1raE2f_I",
        "outputId": "cf71bbcb-8035-4cf3-dbdb-f512a2e164c1"
      },
      "source": [
        "S <- paste(string1, string2, sep =\"#\")\n",
        "print(S)# print the output string"
      ],
      "execution_count": null,
      "outputs": [
        {
          "output_type": "stream",
          "name": "stdout",
          "text": [
            "[1] \"String1#String2\"\n"
          ]
        }
      ]
    },
    {
      "cell_type": "markdown",
      "metadata": {
        "id": "BHJkDze957qZ"
      },
      "source": [
        "## Indexing, Selecting and Modifying Subsets of Data"
      ]
    },
    {
      "cell_type": "markdown",
      "metadata": {
        "id": "1giCOANb6K8u"
      },
      "source": [
        "### Logical Vector"
      ]
    },
    {
      "cell_type": "code",
      "metadata": {
        "colab": {
          "base_uri": "https://localhost:8080/"
        },
        "id": "N62X5NAN6PbB",
        "outputId": "6b362b54-e0c0-443e-f184-410e31bfef4c"
      },
      "source": [
        "x <- c(1:10, NA, NA, NA, 14:20)\n",
        "print(x)"
      ],
      "execution_count": null,
      "outputs": [
        {
          "output_type": "stream",
          "name": "stdout",
          "text": [
            " [1]  1  2  3  4  5  6  7  8  9 10 NA NA NA 14 15 16 17 18 19 20\n"
          ]
        }
      ]
    },
    {
      "cell_type": "code",
      "metadata": {
        "colab": {
          "base_uri": "https://localhost:8080/"
        },
        "id": "GnUJILZS6B-I",
        "outputId": "9ca3051b-c2ae-4edd-8b2a-636d7d8995af"
      },
      "source": [
        "y <- x[!is.na(x)]\n",
        "print(y)"
      ],
      "execution_count": null,
      "outputs": [
        {
          "output_type": "stream",
          "name": "stdout",
          "text": [
            " [1]  1  2  3  4  5  6  7  8  9 10 14 15 16 17 18 19 20\n"
          ]
        }
      ]
    },
    {
      "cell_type": "code",
      "metadata": {
        "colab": {
          "base_uri": "https://localhost:8080/"
        },
        "id": "rHQjGPmy6vCq",
        "outputId": "2f45c4a0-9c30-4fba-b2a1-5e58d1fc4870"
      },
      "source": [
        "# Creates an object Z and places in it values of x*2\n",
        "(x*2)[(!is.na(x)) & x>=10] -> z\n",
        "print(z)"
      ],
      "execution_count": null,
      "outputs": [
        {
          "output_type": "stream",
          "name": "stdout",
          "text": [
            "[1] 20 28 30 32 34 36 38 40\n"
          ]
        }
      ]
    },
    {
      "cell_type": "markdown",
      "metadata": {
        "id": "dSoOrCmy7O2l"
      },
      "source": [
        "### Positive Integer Number"
      ]
    },
    {
      "cell_type": "code",
      "metadata": {
        "colab": {
          "base_uri": "https://localhost:8080/"
        },
        "id": "d-Lj9ZVd7T6P",
        "outputId": "f762a698-511e-46b8-f5e8-a5b6a3c3f977"
      },
      "source": [
        "x <- c('A', 'B', 'C', 'D', 'E', 'F')\n",
        "print(x[2:5])"
      ],
      "execution_count": null,
      "outputs": [
        {
          "output_type": "stream",
          "name": "stdout",
          "text": [
            "[1] \"B\" \"C\" \"D\" \"E\"\n"
          ]
        }
      ]
    },
    {
      "cell_type": "code",
      "metadata": {
        "colab": {
          "base_uri": "https://localhost:8080/"
        },
        "id": "rxibUmCa7fmD",
        "outputId": "6d95bcb4-d032-4f98-b816-7ff6873a062c"
      },
      "source": [
        "print(x[1:length(x)])"
      ],
      "execution_count": null,
      "outputs": [
        {
          "output_type": "stream",
          "name": "stdout",
          "text": [
            "[1] \"A\" \"B\" \"C\" \"D\" \"E\" \"F\"\n"
          ]
        }
      ]
    },
    {
      "cell_type": "code",
      "metadata": {
        "colab": {
          "base_uri": "https://localhost:8080/"
        },
        "id": "dmNMyuOz7srf",
        "outputId": "7a52761b-83cc-444e-86f4-cc2a0a9460b7"
      },
      "source": [
        "# Repeating some particular repeted selection\n",
        "print(x[rep(c(1,2,2,1), times=4)])"
      ],
      "execution_count": null,
      "outputs": [
        {
          "output_type": "stream",
          "name": "stdout",
          "text": [
            " [1] \"A\" \"B\" \"B\" \"A\" \"A\" \"B\" \"B\" \"A\" \"A\" \"B\" \"B\" \"A\" \"A\" \"B\" \"B\" \"A\"\n"
          ]
        }
      ]
    },
    {
      "cell_type": "markdown",
      "metadata": {
        "id": "WmJLhnVM85RQ"
      },
      "source": [
        "### A vector of negative integral quantities"
      ]
    },
    {
      "cell_type": "markdown",
      "metadata": {
        "id": "h7nTMwuY9DdQ"
      },
      "source": [
        "Such an index vector specifies the values to be excluded rather than included."
      ]
    },
    {
      "cell_type": "code",
      "metadata": {
        "colab": {
          "base_uri": "https://localhost:8080/"
        },
        "id": "FUq5uUd17q_0",
        "outputId": "1777e876-b5ad-4707-9ad5-faf790041fc2"
      },
      "source": [
        "y <- x[-(2:5)]\n",
        "print(y)"
      ],
      "execution_count": null,
      "outputs": [
        {
          "output_type": "stream",
          "name": "stdout",
          "text": [
            "[1] \"A\" \"F\"\n"
          ]
        }
      ]
    },
    {
      "cell_type": "markdown",
      "metadata": {
        "id": "dqeH8ls99TxF"
      },
      "source": [
        "### A vector of character strings"
      ]
    },
    {
      "cell_type": "markdown",
      "metadata": {
        "id": "d4YMrPrA9X9n"
      },
      "source": [
        "This possibility only applies where an object has a names attribute to identify its components."
      ]
    },
    {
      "cell_type": "code",
      "metadata": {
        "colab": {
          "base_uri": "https://localhost:8080/"
        },
        "id": "q92fV4cE9WfV",
        "outputId": "bbb1fe6a-0938-46ed-c53b-3a0a2bd08231"
      },
      "source": [
        "fruit <- c(5, 10, 1, 20)\n",
        "print(fruit)"
      ],
      "execution_count": null,
      "outputs": [
        {
          "output_type": "stream",
          "name": "stdout",
          "text": [
            "[1]  5 10  1 20\n"
          ]
        }
      ]
    },
    {
      "cell_type": "code",
      "metadata": {
        "colab": {
          "base_uri": "https://localhost:8080/"
        },
        "id": "cvLR9fnE9oqe",
        "outputId": "b8a1876f-0af6-474e-c951-99b6322ba896"
      },
      "source": [
        "names(fruit) <- c(\"orange\", \"banana\", \"apple\", \"peach\")\n",
        "print(fruit)"
      ],
      "execution_count": null,
      "outputs": [
        {
          "output_type": "stream",
          "name": "stdout",
          "text": [
            "orange banana  apple  peach \n",
            "     5     10      1     20 \n"
          ]
        }
      ]
    },
    {
      "cell_type": "markdown",
      "metadata": {
        "id": "fVgoqWVT9wj7"
      },
      "source": [
        "In this case a sub-vector of the names vector may be used in the same way as the positive integral labels."
      ]
    },
    {
      "cell_type": "code",
      "metadata": {
        "id": "MFm03Yrz9p79",
        "colab": {
          "base_uri": "https://localhost:8080/"
        },
        "outputId": "e6e60c56-1b88-40d0-842d-69c270d52cb5"
      },
      "source": [
        "lunch <- fruit[c(\"apple\",\"orange\")]\n",
        "print(lunch)"
      ],
      "execution_count": null,
      "outputs": [
        {
          "output_type": "stream",
          "name": "stdout",
          "text": [
            " apple orange \n",
            "     1      5 \n"
          ]
        }
      ]
    },
    {
      "cell_type": "markdown",
      "metadata": {
        "id": "E3XhLyM7-F-J"
      },
      "source": [
        "## Task5: Replacing Missing Values"
      ]
    },
    {
      "cell_type": "markdown",
      "metadata": {
        "id": "PEoOaiUx-mFm"
      },
      "source": [
        "**Part A**"
      ]
    },
    {
      "cell_type": "code",
      "metadata": {
        "colab": {
          "base_uri": "https://localhost:8080/"
        },
        "id": "wRqflZ_V-LOZ",
        "outputId": "b5877551-0f1c-484f-ba07-900e22ef086e"
      },
      "source": [
        "# Given\n",
        "x <- c(1:10, NA, NA, NA, 14:20)\n",
        "print(x)"
      ],
      "execution_count": null,
      "outputs": [
        {
          "output_type": "stream",
          "name": "stdout",
          "text": [
            " [1]  1  2  3  4  5  6  7  8  9 10 NA NA NA 14 15 16 17 18 19 20\n"
          ]
        }
      ]
    },
    {
      "cell_type": "markdown",
      "metadata": {
        "id": "RqfBppCU-jAI"
      },
      "source": [
        "Let's replace the missing values with zeros"
      ]
    },
    {
      "cell_type": "code",
      "source": [],
      "metadata": {
        "id": "ciF_EOnFKGtY"
      },
      "execution_count": null,
      "outputs": []
    },
    {
      "cell_type": "markdown",
      "metadata": {
        "id": "3mGpsClr-vd0"
      },
      "source": [
        "**Part B**"
      ]
    },
    {
      "cell_type": "code",
      "metadata": {
        "colab": {
          "base_uri": "https://localhost:8080/"
        },
        "id": "naJSP_-D-6lE",
        "outputId": "c7537f9d-66b9-40dd-8220-f444d8bdcca9"
      },
      "source": [
        "# Given\n",
        "y <- -10:10\n",
        "print(y)"
      ],
      "execution_count": null,
      "outputs": [
        {
          "output_type": "stream",
          "name": "stdout",
          "text": [
            " [1] -10  -9  -8  -7  -6  -5  -4  -3  -2  -1   0   1   2   3   4   5   6   7   8\n",
            "[20]   9  10\n"
          ]
        }
      ]
    },
    {
      "cell_type": "markdown",
      "metadata": {
        "id": "4N_Qlaiu_PfZ"
      },
      "source": [
        "Let's replace the negative values, say `n`, by `-n`.\n",
        "You have to use selection and assingment. Though, it should have the same effect of the `abs` function, you can not use it."
      ]
    },
    {
      "cell_type": "code",
      "metadata": {
        "colab": {
          "base_uri": "https://localhost:8080/"
        },
        "id": "wzce8fbg_IWY",
        "outputId": "3cbb12fd-2bca-499f-9790-9b8901674563"
      },
      "source": [
        "#Enter your code here\n",
        "print(y)"
      ],
      "execution_count": null,
      "outputs": [
        {
          "output_type": "stream",
          "name": "stdout",
          "text": [
            " [1] 10  9  8  7  6  5  4  3  2  1  0  1  2  3  4  5  6  7  8  9 10\n"
          ]
        }
      ]
    },
    {
      "cell_type": "markdown",
      "metadata": {
        "id": "w-XV8LHAw-Wq"
      },
      "source": [
        "## Lists"
      ]
    },
    {
      "cell_type": "markdown",
      "metadata": {
        "id": "32beyEZbxYmK"
      },
      "source": [
        "Lists can contain many different types of elements"
      ]
    },
    {
      "cell_type": "code",
      "metadata": {
        "colab": {
          "base_uri": "https://localhost:8080/"
        },
        "id": "yVueu9Dzw_yC",
        "outputId": "a701c365-69d2-4ae2-cbdd-b56013f19dfc"
      },
      "source": [
        "l <- list(42, 'John Doe', T)\n",
        "print(l)"
      ],
      "execution_count": null,
      "outputs": [
        {
          "output_type": "stream",
          "name": "stdout",
          "text": [
            "[[1]]\n",
            "[1] 42\n",
            "\n",
            "[[2]]\n",
            "[1] \"John Doe\"\n",
            "\n",
            "[[3]]\n",
            "[1] TRUE\n",
            "\n"
          ]
        }
      ]
    },
    {
      "cell_type": "code",
      "metadata": {
        "colab": {
          "base_uri": "https://localhost:8080/",
          "height": 52
        },
        "id": "FPGpvVrWxK46",
        "outputId": "fca3d1e7-f575-4c38-d81a-73f848999155"
      },
      "source": [
        "class(l)\n",
        "typeof(l)"
      ],
      "execution_count": null,
      "outputs": [
        {
          "output_type": "display_data",
          "data": {
            "text/html": [
              "'list'"
            ],
            "text/markdown": "'list'",
            "text/latex": "'list'",
            "text/plain": [
              "[1] \"list\""
            ]
          },
          "metadata": {}
        },
        {
          "output_type": "display_data",
          "data": {
            "text/html": [
              "'list'"
            ],
            "text/markdown": "'list'",
            "text/latex": "'list'",
            "text/plain": [
              "[1] \"list\""
            ]
          },
          "metadata": {}
        }
      ]
    },
    {
      "cell_type": "markdown",
      "metadata": {
        "id": "UGpulsQRxm57"
      },
      "source": [
        "## Matrices"
      ]
    },
    {
      "cell_type": "markdown",
      "metadata": {
        "id": "jGh9S_bcxtH6"
      },
      "source": [
        "Matrices can be build from a vector by defining the number of `rows` and `cols`"
      ]
    },
    {
      "cell_type": "code",
      "metadata": {
        "colab": {
          "base_uri": "https://localhost:8080/"
        },
        "id": "IWE4ygQHxjgx",
        "outputId": "fb0e2e29-9ca3-4855-afbf-16455c75cd6c"
      },
      "source": [
        "M <- matrix(c('a','b','c','d','e','f'), nrow=2, ncol=3, byrow=TRUE)\n",
        "print(M)"
      ],
      "execution_count": null,
      "outputs": [
        {
          "output_type": "stream",
          "name": "stdout",
          "text": [
            "     [,1] [,2] [,3]\n",
            "[1,] \"a\"  \"b\"  \"c\" \n",
            "[2,] \"d\"  \"e\"  \"f\" \n"
          ]
        }
      ]
    },
    {
      "cell_type": "markdown",
      "metadata": {
        "id": "btHFTx8IyCKl"
      },
      "source": [
        "**Accessing Values in Matrices**"
      ]
    },
    {
      "cell_type": "code",
      "metadata": {
        "colab": {
          "base_uri": "https://localhost:8080/"
        },
        "id": "Ut-3gUNxx5UY",
        "outputId": "a5c8eacc-7b5a-45d4-9081-2e7fbe856210"
      },
      "source": [
        "print(M[2, 3]) # Returns 'f'"
      ],
      "execution_count": null,
      "outputs": [
        {
          "output_type": "stream",
          "name": "stdout",
          "text": [
            "[1] \"f\"\n"
          ]
        }
      ]
    },
    {
      "cell_type": "code",
      "metadata": {
        "colab": {
          "base_uri": "https://localhost:8080/"
        },
        "id": "XyatPZZ7yLXy",
        "outputId": "250332d5-f8d4-49e8-d085-8326688afb4b"
      },
      "source": [
        "print(M[1])"
      ],
      "execution_count": null,
      "outputs": [
        {
          "output_type": "stream",
          "name": "stdout",
          "text": [
            "[1] \"a\"\n"
          ]
        }
      ]
    }
  ]
}